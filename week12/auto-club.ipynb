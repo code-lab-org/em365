{
 "cells": [
  {
   "cell_type": "markdown",
   "id": "9fcb1a04",
   "metadata": {},
   "source": [
    "Import three dependent libraries: pandas (`pd`) for data manipulation, numpy (`np`) for computation, statsmodels formulas (`smf`) for building models using formulas, and matplotlib's pyplot (`plt`) for visualization."
   ]
  },
  {
   "cell_type": "code",
   "execution_count": 1,
   "id": "4e0febe8",
   "metadata": {},
   "outputs": [],
   "source": [
    "import pandas as pd\n",
    "import numpy as np\n",
    "import statsmodels.formula.api as smf\n",
    "import matplotlib.pyplot as plt"
   ]
  },
  {
   "cell_type": "markdown",
   "id": "d88b49ca",
   "metadata": {},
   "source": [
    "First, make sure that the data file `data-auto-club.csv` is accessible to your Python environment. If you are using your local machine, you can put it in the same directory as this Jupyter notebook. If you are using a cloud service like Google Colab, make sure to upload the file to the remote machine (expand folder icon on left side and click upload button).\n",
    "\n",
    "Next, read the data file using pandas."
   ]
  },
  {
   "cell_type": "code",
   "execution_count": 2,
   "id": "6b9384f6",
   "metadata": {},
   "outputs": [
    {
     "data": {
      "text/html": [
       "<div>\n",
       "<style scoped>\n",
       "    .dataframe tbody tr th:only-of-type {\n",
       "        vertical-align: middle;\n",
       "    }\n",
       "\n",
       "    .dataframe tbody tr th {\n",
       "        vertical-align: top;\n",
       "    }\n",
       "\n",
       "    .dataframe thead th {\n",
       "        text-align: right;\n",
       "    }\n",
       "</style>\n",
       "<table border=\"1\" class=\"dataframe\">\n",
       "  <thead>\n",
       "    <tr style=\"text-align: right;\">\n",
       "      <th></th>\n",
       "      <th>Request</th>\n",
       "      <th>Age</th>\n",
       "    </tr>\n",
       "  </thead>\n",
       "  <tbody>\n",
       "    <tr>\n",
       "      <th>0</th>\n",
       "      <td>1</td>\n",
       "      <td>52</td>\n",
       "    </tr>\n",
       "    <tr>\n",
       "      <th>1</th>\n",
       "      <td>1</td>\n",
       "      <td>57</td>\n",
       "    </tr>\n",
       "    <tr>\n",
       "      <th>2</th>\n",
       "      <td>1</td>\n",
       "      <td>53</td>\n",
       "    </tr>\n",
       "    <tr>\n",
       "      <th>3</th>\n",
       "      <td>1</td>\n",
       "      <td>57</td>\n",
       "    </tr>\n",
       "    <tr>\n",
       "      <th>4</th>\n",
       "      <td>1</td>\n",
       "      <td>48</td>\n",
       "    </tr>\n",
       "    <tr>\n",
       "      <th>...</th>\n",
       "      <td>...</td>\n",
       "      <td>...</td>\n",
       "    </tr>\n",
       "    <tr>\n",
       "      <th>87</th>\n",
       "      <td>0</td>\n",
       "      <td>42</td>\n",
       "    </tr>\n",
       "    <tr>\n",
       "      <th>88</th>\n",
       "      <td>0</td>\n",
       "      <td>39</td>\n",
       "    </tr>\n",
       "    <tr>\n",
       "      <th>89</th>\n",
       "      <td>0</td>\n",
       "      <td>32</td>\n",
       "    </tr>\n",
       "    <tr>\n",
       "      <th>90</th>\n",
       "      <td>0</td>\n",
       "      <td>29</td>\n",
       "    </tr>\n",
       "    <tr>\n",
       "      <th>91</th>\n",
       "      <td>0</td>\n",
       "      <td>34</td>\n",
       "    </tr>\n",
       "  </tbody>\n",
       "</table>\n",
       "<p>92 rows × 2 columns</p>\n",
       "</div>"
      ],
      "text/plain": [
       "    Request  Age\n",
       "0         1   52\n",
       "1         1   57\n",
       "2         1   53\n",
       "3         1   57\n",
       "4         1   48\n",
       "..      ...  ...\n",
       "87        0   42\n",
       "88        0   39\n",
       "89        0   32\n",
       "90        0   29\n",
       "91        0   34\n",
       "\n",
       "[92 rows x 2 columns]"
      ]
     },
     "metadata": {},
     "output_type": "display_data"
    }
   ],
   "source": [
    "df = pd.read_csv('data-auto-club.csv')\n",
    "display(df)"
   ]
  },
  {
   "cell_type": "markdown",
   "id": "5712cf3a",
   "metadata": {},
   "source": [
    "First, create a plot of the independent variable (age) versus dependent variable (request info)."
   ]
  },
  {
   "cell_type": "code",
   "execution_count": 3,
   "id": "ab190af7",
   "metadata": {},
   "outputs": [
    {
     "data": {
      "image/png": "[encoded data removed]",
      "text/plain": [
       "<Figure size 432x288 with 1 Axes>"
      ]
     },
     "metadata": {
      "needs_background": "light"
     },
     "output_type": "display_data"
    }
   ],
   "source": [
    "plt.figure()\n",
    "plt.scatter(df.Age, df.Request)\n",
    "plt.xlabel('Age')\n",
    "plt.ylabel('Request Info')\n",
    "plt.show()"
   ]
  },
  {
   "cell_type": "markdown",
   "id": "cae167fb",
   "metadata": {},
   "source": [
    "Next, build and fit an logit model using statsmodels. The desired equation models the boolean `Request` variable as a function of the `Age` variable."
   ]
  },
  {
   "cell_type": "code",
   "execution_count": 4,
   "id": "77120481",
   "metadata": {},
   "outputs": [
    {
     "name": "stdout",
     "output_type": "stream",
     "text": [
      "Optimization terminated successfully.\n",
      "         Current function value: 0.271395\n",
      "         Iterations 8\n",
      "                           Logit Regression Results                           \n",
      "==============================================================================\n",
      "Dep. Variable:                Request   No. Observations:                   92\n",
      "Model:                          Logit   Df Residuals:                       90\n",
      "Method:                           MLE   Df Model:                            1\n",
      "Date:                Wed, 17 Nov 2021   Pseudo R-squ.:                  0.5945\n",
      "Time:                        00:46:47   Log-Likelihood:                -24.968\n",
      "converged:                       True   LL-Null:                       -61.578\n",
      "Covariance Type:            nonrobust   LLR p-value:                 1.160e-17\n",
      "==============================================================================\n",
      "                 coef    std err          z      P>|z|      [0.025      0.975]\n",
      "------------------------------------------------------------------------------\n",
      "Intercept    -20.4078      4.523     -4.512      0.000     -29.273     -11.542\n",
      "Age            0.4259      0.095      4.492      0.000       0.240       0.612\n",
      "==============================================================================\n"
     ]
    }
   ],
   "source": [
    "model = smf.logit('Request ~ Age', data=df).fit()\n",
    "print(model.summary())"
   ]
  },
  {
   "cell_type": "markdown",
   "id": "e25ef3dc",
   "metadata": {},
   "source": [
    "We can use the fitted model to plot the resulting relationship between age and requesting information. "
   ]
  },
  {
   "cell_type": "code",
   "execution_count": 5,
   "id": "05697696",
   "metadata": {},
   "outputs": [
    {
     "data": {
      "image/png": "[encoded data removed]",
      "text/plain": [
       "<Figure size 432x288 with 1 Axes>"
      ]
     },
     "metadata": {
      "needs_background": "light"
     },
     "output_type": "display_data"
    }
   ],
   "source": [
    "x = pd.DataFrame(np.linspace(25,70,100), columns=['Age'])\n",
    "\n",
    "plt.figure()\n",
    "plt.scatter(df.Age, df.Request)\n",
    "plt.plot(x, model.predict(x))\n",
    "plt.xlabel('Age')\n",
    "plt.ylabel('Request Info')\n",
    "plt.show()"
   ]
  }
 ],
 "metadata": {
  "kernelspec": {
   "display_name": "Python 3",
   "language": "python",
   "name": "python3"
  },
  "language_info": {
   "codemirror_mode": {
    "name": "ipython",
    "version": 3
   },
   "file_extension": ".py",
   "mimetype": "text/x-python",
   "name": "python",
   "nbconvert_exporter": "python",
   "pygments_lexer": "ipython3",
   "version": "3.8.3"
  }
 },
 "nbformat": 4,
 "nbformat_minor": 5
}
