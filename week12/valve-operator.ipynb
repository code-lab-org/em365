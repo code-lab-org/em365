{
 "cells": [
  {
   "cell_type": "markdown",
   "id": "464c9bab",
   "metadata": {},
   "source": [
    "This example is based on the one-way ANOVA example in Table 11.2 from Ken Black, *Business Statistics for Contemporary Decision Making*, 6th Edition, John Wiley and Sons, p. 407, 2010.\n",
    "\n",
    "Import dependent libraries: pandas (`pd`) for data manipulation, statsmodels (`sm`) for statistics, and statsmodels formulas (`smf`) for building models using formulas."
   ]
  },
  {
   "cell_type": "code",
   "execution_count": 1,
   "id": "24435c71",
   "metadata": {},
   "outputs": [],
   "source": [
    "import pandas as pd\n",
    "import statsmodels.api as sm\n",
    "import statsmodels.formula.api as smf"
   ]
  },
  {
   "cell_type": "markdown",
   "id": "0a8e4345",
   "metadata": {},
   "source": [
    "First, make sure that the data file `data-valve-operator.csv` is accessible to your Python environment. If you are using your local machine, you can put it in the same directory as this Jupyter notebook. If you are using a cloud service like Google Colab, make sure to upload the file to the remote machine (expand folder icon on left side and click upload button).\n",
    "\n",
    "Next, read the data file using pandas."
   ]
  },
  {
   "cell_type": "code",
   "execution_count": 2,
   "id": "e22e4af5",
   "metadata": {},
   "outputs": [
    {
     "data": {
      "text/html": [
       "<div>\n",
       "<style scoped>\n",
       "    .dataframe tbody tr th:only-of-type {\n",
       "        vertical-align: middle;\n",
       "    }\n",
       "\n",
       "    .dataframe tbody tr th {\n",
       "        vertical-align: top;\n",
       "    }\n",
       "\n",
       "    .dataframe thead th {\n",
       "        text-align: right;\n",
       "    }\n",
       "</style>\n",
       "<table border=\"1\" class=\"dataframe\">\n",
       "  <thead>\n",
       "    <tr style=\"text-align: right;\">\n",
       "      <th></th>\n",
       "      <th>Operator</th>\n",
       "      <th>ValveOpening</th>\n",
       "    </tr>\n",
       "  </thead>\n",
       "  <tbody>\n",
       "    <tr>\n",
       "      <th>0</th>\n",
       "      <td>1</td>\n",
       "      <td>6.33</td>\n",
       "    </tr>\n",
       "    <tr>\n",
       "      <th>1</th>\n",
       "      <td>1</td>\n",
       "      <td>6.26</td>\n",
       "    </tr>\n",
       "    <tr>\n",
       "      <th>2</th>\n",
       "      <td>1</td>\n",
       "      <td>6.31</td>\n",
       "    </tr>\n",
       "    <tr>\n",
       "      <th>3</th>\n",
       "      <td>1</td>\n",
       "      <td>6.29</td>\n",
       "    </tr>\n",
       "    <tr>\n",
       "      <th>4</th>\n",
       "      <td>1</td>\n",
       "      <td>6.40</td>\n",
       "    </tr>\n",
       "    <tr>\n",
       "      <th>5</th>\n",
       "      <td>2</td>\n",
       "      <td>6.26</td>\n",
       "    </tr>\n",
       "    <tr>\n",
       "      <th>6</th>\n",
       "      <td>2</td>\n",
       "      <td>6.36</td>\n",
       "    </tr>\n",
       "    <tr>\n",
       "      <th>7</th>\n",
       "      <td>2</td>\n",
       "      <td>6.23</td>\n",
       "    </tr>\n",
       "    <tr>\n",
       "      <th>8</th>\n",
       "      <td>2</td>\n",
       "      <td>6.27</td>\n",
       "    </tr>\n",
       "    <tr>\n",
       "      <th>9</th>\n",
       "      <td>2</td>\n",
       "      <td>6.19</td>\n",
       "    </tr>\n",
       "    <tr>\n",
       "      <th>10</th>\n",
       "      <td>2</td>\n",
       "      <td>6.50</td>\n",
       "    </tr>\n",
       "    <tr>\n",
       "      <th>11</th>\n",
       "      <td>2</td>\n",
       "      <td>6.19</td>\n",
       "    </tr>\n",
       "    <tr>\n",
       "      <th>12</th>\n",
       "      <td>2</td>\n",
       "      <td>6.22</td>\n",
       "    </tr>\n",
       "    <tr>\n",
       "      <th>13</th>\n",
       "      <td>3</td>\n",
       "      <td>6.44</td>\n",
       "    </tr>\n",
       "    <tr>\n",
       "      <th>14</th>\n",
       "      <td>3</td>\n",
       "      <td>6.38</td>\n",
       "    </tr>\n",
       "    <tr>\n",
       "      <th>15</th>\n",
       "      <td>3</td>\n",
       "      <td>6.58</td>\n",
       "    </tr>\n",
       "    <tr>\n",
       "      <th>16</th>\n",
       "      <td>3</td>\n",
       "      <td>6.54</td>\n",
       "    </tr>\n",
       "    <tr>\n",
       "      <th>17</th>\n",
       "      <td>3</td>\n",
       "      <td>6.56</td>\n",
       "    </tr>\n",
       "    <tr>\n",
       "      <th>18</th>\n",
       "      <td>3</td>\n",
       "      <td>6.34</td>\n",
       "    </tr>\n",
       "    <tr>\n",
       "      <th>19</th>\n",
       "      <td>3</td>\n",
       "      <td>6.58</td>\n",
       "    </tr>\n",
       "    <tr>\n",
       "      <th>20</th>\n",
       "      <td>4</td>\n",
       "      <td>6.29</td>\n",
       "    </tr>\n",
       "    <tr>\n",
       "      <th>21</th>\n",
       "      <td>4</td>\n",
       "      <td>6.23</td>\n",
       "    </tr>\n",
       "    <tr>\n",
       "      <th>22</th>\n",
       "      <td>4</td>\n",
       "      <td>6.19</td>\n",
       "    </tr>\n",
       "    <tr>\n",
       "      <th>23</th>\n",
       "      <td>4</td>\n",
       "      <td>6.21</td>\n",
       "    </tr>\n",
       "  </tbody>\n",
       "</table>\n",
       "</div>"
      ],
      "text/plain": [
       "    Operator  ValveOpening\n",
       "0          1          6.33\n",
       "1          1          6.26\n",
       "2          1          6.31\n",
       "3          1          6.29\n",
       "4          1          6.40\n",
       "5          2          6.26\n",
       "6          2          6.36\n",
       "7          2          6.23\n",
       "8          2          6.27\n",
       "9          2          6.19\n",
       "10         2          6.50\n",
       "11         2          6.19\n",
       "12         2          6.22\n",
       "13         3          6.44\n",
       "14         3          6.38\n",
       "15         3          6.58\n",
       "16         3          6.54\n",
       "17         3          6.56\n",
       "18         3          6.34\n",
       "19         3          6.58\n",
       "20         4          6.29\n",
       "21         4          6.23\n",
       "22         4          6.19\n",
       "23         4          6.21"
      ]
     },
     "metadata": {},
     "output_type": "display_data"
    }
   ],
   "source": [
    "df = pd.read_csv('data-valve-operator.csv')\n",
    "display(df)"
   ]
  },
  {
   "cell_type": "markdown",
   "id": "6a4eef3e",
   "metadata": {},
   "source": [
    "Next, build and fit an ordinary least squares (OLS) model using statsmodels. The desired equation for a one-way ANOVA models the `ValveOpening` variable as a function of the *categorical* variable `Operator`. Results show that the operator has a significant effect on valve opening."
   ]
  },
  {
   "cell_type": "code",
   "execution_count": 3,
   "id": "da25ede6",
   "metadata": {},
   "outputs": [
    {
     "name": "stdout",
     "output_type": "stream",
     "text": [
      "               df    sum_sq   mean_sq          F    PR(>F)\n",
      "C(Operator)   3.0  0.236580  0.078860  10.181025  0.000279\n",
      "Residual     20.0  0.154916  0.007746        NaN       NaN\n"
     ]
    }
   ],
   "source": [
    "model = smf.ols('ValveOpening ~ C(Operator)', data=df).fit()\n",
    "print(sm.stats.anova_lm(model))"
   ]
  },
  {
   "cell_type": "markdown",
   "id": "e5635ef6",
   "metadata": {},
   "source": [
    "We can also perform a Tukey Honestly Significant Difference (HSD) test to identify which (if any) of the operators have significantly different valve openings. Results show that operators 1-3, 2-3, and 3-4 are different from each other."
   ]
  },
  {
   "cell_type": "code",
   "execution_count": 4,
   "id": "5d180580",
   "metadata": {},
   "outputs": [
    {
     "name": "stdout",
     "output_type": "stream",
     "text": [
      "Multiple Comparison of Means - Tukey HSD, FWER=0.05 \n",
      "====================================================\n",
      "group1 group2 meandiff p-adj   lower   upper  reject\n",
      "----------------------------------------------------\n",
      "     1      2  -0.0405 0.8362 -0.1809  0.0999  False\n",
      "     1      3   0.1706 0.0169  0.0263  0.3148   True\n",
      "     1      4   -0.088 0.4625 -0.2533  0.0773  False\n",
      "     2      3   0.2111  0.001  0.0836  0.3386   True\n",
      "     2      4  -0.0475 0.7958 -0.1984  0.1034  False\n",
      "     3      4  -0.2586  0.001  -0.413 -0.1042   True\n",
      "----------------------------------------------------\n"
     ]
    }
   ],
   "source": [
    "results = sm.stats.multicomp.MultiComparison(df.ValveOpening, df.Operator)\n",
    "print(results.tukeyhsd())"
   ]
  },
  {
   "cell_type": "markdown",
   "id": "2f3dcd38",
   "metadata": {},
   "source": [
    "We can also view a summary of the regression model which quantifies the coefficients for each operator, using dummy variables. Results show that operators 2 and 4 have slightly smaller (but not statistically significant) coefficients relative to operator 1 (the baseline) while operator 3 has a significantly larger coefficient."
   ]
  },
  {
   "cell_type": "code",
   "execution_count": 5,
   "id": "ea395c06",
   "metadata": {},
   "outputs": [
    {
     "name": "stdout",
     "output_type": "stream",
     "text": [
      "                            OLS Regression Results                            \n",
      "==============================================================================\n",
      "Dep. Variable:           ValveOpening   R-squared:                       0.604\n",
      "Model:                            OLS   Adj. R-squared:                  0.545\n",
      "Method:                 Least Squares   F-statistic:                     10.18\n",
      "Date:                Wed, 17 Nov 2021   Prob (F-statistic):           0.000279\n",
      "Time:                        00:46:05   Log-Likelihood:                 26.461\n",
      "No. Observations:                  24   AIC:                            -44.92\n",
      "Df Residuals:                      20   BIC:                            -40.21\n",
      "Df Model:                           3                                         \n",
      "Covariance Type:            nonrobust                                         \n",
      "====================================================================================\n",
      "                       coef    std err          t      P>|t|      [0.025      0.975]\n",
      "------------------------------------------------------------------------------------\n",
      "Intercept            6.3180      0.039    160.521      0.000       6.236       6.400\n",
      "C(Operator)[T.2]    -0.0405      0.050     -0.807      0.429      -0.145       0.064\n",
      "C(Operator)[T.3]     0.1706      0.052      3.310      0.003       0.063       0.278\n",
      "C(Operator)[T.4]    -0.0880      0.059     -1.491      0.152      -0.211       0.035\n",
      "==============================================================================\n",
      "Omnibus:                        3.332   Durbin-Watson:                   2.686\n",
      "Prob(Omnibus):                  0.189   Jarque-Bera (JB):                1.816\n",
      "Skew:                           0.624   Prob(JB):                        0.403\n",
      "Kurtosis:                       3.508   Cond. No.                         5.28\n",
      "==============================================================================\n",
      "\n",
      "Notes:\n",
      "[1] Standard Errors assume that the covariance matrix of the errors is correctly specified.\n"
     ]
    }
   ],
   "source": [
    "print(model.summary())"
   ]
  }
 ],
 "metadata": {
  "kernelspec": {
   "display_name": "Python 3",
   "language": "python",
   "name": "python3"
  },
  "language_info": {
   "codemirror_mode": {
    "name": "ipython",
    "version": 3
   },
   "file_extension": ".py",
   "mimetype": "text/x-python",
   "name": "python",
   "nbconvert_exporter": "python",
   "pygments_lexer": "ipython3",
   "version": "3.8.3"
  }
 },
 "nbformat": 4,
 "nbformat_minor": 5
}
