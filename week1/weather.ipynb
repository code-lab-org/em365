{
 "cells": [
  {
   "cell_type": "markdown",
   "id": "be4f886e",
   "metadata": {},
   "source": [
    "Get daily weather summary from Newark Airport station.\n",
    "\n",
    "* Documentation: https://www.ncei.noaa.gov/support/access-search-service-api-user-documentation\n",
    "* Readme: https://www1.ncdc.noaa.gov/pub/data/ghcn/daily/readme.txt"
   ]
  },
  {
   "cell_type": "code",
   "execution_count": 1,
   "id": "9331c96a",
   "metadata": {},
   "outputs": [
    {
     "data": {
      "application/json": [
       {
        "DATE": "2019-01-01",
        "PRCP": "   20",
        "SNOW": "    0",
        "STATION": "USW00014734",
        "TMAX": "  144",
        "TMIN": "   44"
       },
       {
        "DATE": "2019-01-02",
        "PRCP": "    0",
        "SNOW": "    0",
        "STATION": "USW00014734",
        "TMAX": "   50",
        "TMIN": "   17"
       },
       {
        "DATE": "2019-01-03",
        "PRCP": "    0",
        "SNOW": "    0",
        "STATION": "USW00014734",
        "TMAX": "   72",
        "TMIN": "    0"
       },
       {
        "DATE": "2019-01-04",
        "PRCP": "    0",
        "SNOW": "    0",
        "STATION": "USW00014734",
        "TMAX": "   78",
        "TMIN": "  -16"
       },
       {
        "DATE": "2019-01-05",
        "PRCP": "  155",
        "SNOW": "    0",
        "STATION": "USW00014734",
        "TMAX": "   83",
        "TMIN": "   50"
       },
       {
        "DATE": "2019-01-06",
        "PRCP": "    0",
        "SNOW": "    0",
        "STATION": "USW00014734",
        "TMAX": "  106",
        "TMIN": "   -5"
       },
       {
        "DATE": "2019-01-07",
        "PRCP": "    0",
        "SNOW": "    0",
        "STATION": "USW00014734",
        "TMAX": "   11",
        "TMIN": "  -38"
       },
       {
        "DATE": "2019-01-08",
        "PRCP": "   38",
        "SNOW": "    0",
        "STATION": "USW00014734",
        "TMAX": "   67",
        "TMIN": "   11"
       },
       {
        "DATE": "2019-01-09",
        "PRCP": "   10",
        "SNOW": "    0",
        "STATION": "USW00014734",
        "TMAX": "   78",
        "TMIN": "   11"
       },
       {
        "DATE": "2019-01-10",
        "PRCP": "    0",
        "SNOW": "    0",
        "STATION": "USW00014734",
        "TMAX": "   22",
        "TMIN": "  -16"
       },
       {
        "DATE": "2019-01-11",
        "PRCP": "    0",
        "SNOW": "    0",
        "STATION": "USW00014734",
        "TMAX": "    6",
        "TMIN": "  -60"
       },
       {
        "DATE": "2019-01-12",
        "PRCP": "    0",
        "SNOW": "    0",
        "STATION": "USW00014734",
        "TMAX": "   17",
        "TMIN": "  -66"
       },
       {
        "DATE": "2019-01-13",
        "PRCP": "    0",
        "SNOW": "    3",
        "STATION": "USW00014734",
        "TMAX": "    6",
        "TMIN": "  -49"
       },
       {
        "DATE": "2019-01-14",
        "PRCP": "    0",
        "SNOW": "    0",
        "STATION": "USW00014734",
        "TMAX": "   11",
        "TMIN": "  -66"
       },
       {
        "DATE": "2019-01-15",
        "PRCP": "    0",
        "SNOW": "    0",
        "STATION": "USW00014734",
        "TMAX": "   33",
        "TMIN": "  -66"
       },
       {
        "DATE": "2019-01-16",
        "PRCP": "    0",
        "SNOW": "    0",
        "STATION": "USW00014734",
        "TMAX": "   39",
        "TMIN": "  -49"
       },
       {
        "DATE": "2019-01-17",
        "PRCP": "    0",
        "SNOW": "    0",
        "STATION": "USW00014734",
        "TMAX": "   11",
        "TMIN": "  -43"
       },
       {
        "DATE": "2019-01-18",
        "PRCP": "    5",
        "SNOW": "    8",
        "STATION": "USW00014734",
        "TMAX": "   33",
        "TMIN": "  -27"
       },
       {
        "DATE": "2019-01-19",
        "PRCP": "  114",
        "SNOW": "    0",
        "STATION": "USW00014734",
        "TMAX": "   33",
        "TMIN": "  -21"
       },
       {
        "DATE": "2019-01-20",
        "PRCP": "  272",
        "SNOW": "    0",
        "STATION": "USW00014734",
        "TMAX": "   50",
        "TMIN": " -105"
       },
       {
        "DATE": "2019-01-21",
        "PRCP": "    0",
        "SNOW": "    0",
        "STATION": "USW00014734",
        "TMAX": "  -93",
        "TMIN": " -155"
       },
       {
        "DATE": "2019-01-22",
        "PRCP": "    0",
        "SNOW": "    0",
        "STATION": "USW00014734",
        "TMAX": "    0",
        "TMIN": " -105"
       },
       {
        "DATE": "2019-01-23",
        "PRCP": "    0",
        "SNOW": "    0",
        "STATION": "USW00014734",
        "TMAX": "   94",
        "TMIN": "  -27"
       },
       {
        "DATE": "2019-01-24",
        "PRCP": "  249",
        "SNOW": "    0",
        "STATION": "USW00014734",
        "TMAX": "  150",
        "TMIN": "   17"
       },
       {
        "DATE": "2019-01-25",
        "PRCP": "    0",
        "SNOW": "    0",
        "STATION": "USW00014734",
        "TMAX": "   44",
        "TMIN": "  -27"
       },
       {
        "DATE": "2019-01-26",
        "PRCP": "    0",
        "SNOW": "    0",
        "STATION": "USW00014734",
        "TMAX": "   22",
        "TMIN": "  -60"
       },
       {
        "DATE": "2019-01-27",
        "PRCP": "    0",
        "SNOW": "    0",
        "STATION": "USW00014734",
        "TMAX": "  106",
        "TMIN": "  -32"
       },
       {
        "DATE": "2019-01-28",
        "PRCP": "    0",
        "SNOW": "    0",
        "STATION": "USW00014734",
        "TMAX": "   33",
        "TMIN": "  -55"
       },
       {
        "DATE": "2019-01-29",
        "PRCP": "   48",
        "SNOW": "    3",
        "STATION": "USW00014734",
        "TMAX": "   56",
        "TMIN": "  -66"
       },
       {
        "DATE": "2019-01-30",
        "PRCP": "   51",
        "SNOW": "   10",
        "STATION": "USW00014734",
        "TMAX": "   11",
        "TMIN": " -149"
       },
       {
        "DATE": "2019-01-31",
        "PRCP": "    0",
        "SNOW": "    0",
        "STATION": "USW00014734",
        "TMAX": "  -82",
        "TMIN": " -166"
       },
       {
        "DATE": "2019-02-01",
        "PRCP": "    0",
        "SNOW": "    0",
        "STATION": "USW00014734",
        "TMAX": "  -55",
        "TMIN": " -121"
       },
       {
        "DATE": "2019-02-02",
        "PRCP": "    0",
        "SNOW": "    0",
        "STATION": "USW00014734",
        "TMAX": "   17",
        "TMIN": "  -99"
       },
       {
        "DATE": "2019-02-03",
        "PRCP": "    0",
        "SNOW": "    0",
        "STATION": "USW00014734",
        "TMAX": "  117",
        "TMIN": "  -43"
       },
       {
        "DATE": "2019-02-04",
        "PRCP": "    0",
        "SNOW": "    0",
        "STATION": "USW00014734",
        "TMAX": "  161",
        "TMIN": "    0"
       },
       {
        "DATE": "2019-02-05",
        "PRCP": "    0",
        "SNOW": "    0",
        "STATION": "USW00014734",
        "TMAX": "  200",
        "TMIN": "   28"
       },
       {
        "DATE": "2019-02-06",
        "PRCP": "  135",
        "SNOW": "    0",
        "STATION": "USW00014734",
        "TMAX": "   83",
        "TMIN": "   11"
       },
       {
        "DATE": "2019-02-07",
        "PRCP": "   18",
        "SNOW": "    0",
        "STATION": "USW00014734",
        "TMAX": "   72",
        "TMIN": "   39"
       },
       {
        "DATE": "2019-02-08",
        "PRCP": "  117",
        "SNOW": "    0",
        "STATION": "USW00014734",
        "TMAX": "  133",
        "TMIN": "    0"
       },
       {
        "DATE": "2019-02-09",
        "PRCP": "    0",
        "SNOW": "    0",
        "STATION": "USW00014734",
        "TMAX": "   11",
        "TMIN": "  -43"
       },
       {
        "DATE": "2019-02-10",
        "PRCP": "    0",
        "SNOW": "    0",
        "STATION": "USW00014734",
        "TMAX": "   28",
        "TMIN": "  -55"
       },
       {
        "DATE": "2019-02-11",
        "PRCP": "    0",
        "SNOW": "    0",
        "STATION": "USW00014734",
        "TMAX": "   33",
        "TMIN": "  -16"
       },
       {
        "DATE": "2019-02-12",
        "PRCP": "  206",
        "SNOW": "   48",
        "STATION": "USW00014734",
        "TMAX": "   22",
        "TMIN": "  -32"
       },
       {
        "DATE": "2019-02-13",
        "PRCP": "   15",
        "SNOW": "    0",
        "STATION": "USW00014734",
        "TMAX": "   56",
        "TMIN": "    6"
       },
       {
        "DATE": "2019-02-14",
        "PRCP": "    0",
        "SNOW": "    0",
        "STATION": "USW00014734",
        "TMAX": "   78",
        "TMIN": "    0"
       },
       {
        "DATE": "2019-02-15",
        "PRCP": "    0",
        "SNOW": "    0",
        "STATION": "USW00014734",
        "TMAX": "  172",
        "TMIN": "   44"
       },
       {
        "DATE": "2019-02-16",
        "PRCP": "    0",
        "SNOW": "    0",
        "STATION": "USW00014734",
        "TMAX": "   94",
        "TMIN": "   -5"
       },
       {
        "DATE": "2019-02-17",
        "PRCP": "   13",
        "SNOW": "    0",
        "STATION": "USW00014734",
        "TMAX": "   22",
        "TMIN": "  -55"
       },
       {
        "DATE": "2019-02-18",
        "PRCP": "   23",
        "SNOW": "    0",
        "STATION": "USW00014734",
        "TMAX": "   67",
        "TMIN": "  -32"
       },
       {
        "DATE": "2019-02-19",
        "PRCP": "    0",
        "SNOW": "    0",
        "STATION": "USW00014734",
        "TMAX": "   28",
        "TMIN": "  -49"
       },
       {
        "DATE": "2019-02-20",
        "PRCP": "  216",
        "SNOW": "   69",
        "STATION": "USW00014734",
        "TMAX": "    6",
        "TMIN": "  -32"
       },
       {
        "DATE": "2019-02-21",
        "PRCP": "   30",
        "SNOW": "    0",
        "STATION": "USW00014734",
        "TMAX": "  111",
        "TMIN": "    0"
       },
       {
        "DATE": "2019-02-22",
        "PRCP": "    0",
        "SNOW": "    0",
        "STATION": "USW00014734",
        "TMAX": "   72",
        "TMIN": "   22"
       },
       {
        "DATE": "2019-02-23",
        "PRCP": "    5",
        "SNOW": "    0",
        "STATION": "USW00014734",
        "TMAX": "   44",
        "TMIN": "   -5"
       },
       {
        "DATE": "2019-02-24",
        "PRCP": "  206",
        "SNOW": "    0",
        "STATION": "USW00014734",
        "TMAX": "   83",
        "TMIN": "   28"
       },
       {
        "DATE": "2019-02-25",
        "PRCP": "    0",
        "SNOW": "    0",
        "STATION": "USW00014734",
        "TMAX": "   61",
        "TMIN": "  -21"
       },
       {
        "DATE": "2019-02-26",
        "PRCP": "    0",
        "SNOW": "    0",
        "STATION": "USW00014734",
        "TMAX": "   44",
        "TMIN": "  -38"
       },
       {
        "DATE": "2019-02-27",
        "PRCP": "    0",
        "SNOW": "    0",
        "STATION": "USW00014734",
        "TMAX": "   -5",
        "TMIN": "  -43"
       },
       {
        "DATE": "2019-02-28",
        "PRCP": "    5",
        "SNOW": "    5",
        "STATION": "USW00014734",
        "TMAX": "   33",
        "TMIN": "  -27"
       },
       {
        "DATE": "2019-03-01",
        "PRCP": "   13",
        "SNOW": "   20",
        "STATION": "USW00014734",
        "TMAX": "   22",
        "TMIN": "  -38"
       },
       {
        "DATE": "2019-03-02",
        "PRCP": "  130",
        "SNOW": "  114",
        "STATION": "USW00014734",
        "TMAX": "   50",
        "TMIN": "  -10"
       },
       {
        "DATE": "2019-03-03",
        "PRCP": "  168",
        "SNOW": "   79",
        "STATION": "USW00014734",
        "TMAX": "   56",
        "TMIN": "    0"
       },
       {
        "DATE": "2019-03-04",
        "PRCP": "   58",
        "SNOW": "   33",
        "STATION": "USW00014734",
        "TMAX": "   39",
        "TMIN": "  -16"
       },
       {
        "DATE": "2019-03-05",
        "PRCP": "    0",
        "SNOW": "    0",
        "STATION": "USW00014734",
        "TMAX": "   -5",
        "TMIN": "  -60"
       },
       {
        "DATE": "2019-03-06",
        "PRCP": "    0",
        "SNOW": "    0",
        "STATION": "USW00014734",
        "TMAX": "  -27",
        "TMIN": "  -77"
       },
       {
        "DATE": "2019-03-07",
        "PRCP": "    0",
        "SNOW": "    0",
        "STATION": "USW00014734",
        "TMAX": "    0",
        "TMIN": "  -93"
       },
       {
        "DATE": "2019-03-08",
        "PRCP": "    0",
        "SNOW": "    0",
        "STATION": "USW00014734",
        "TMAX": "   39",
        "TMIN": "  -66"
       },
       {
        "DATE": "2019-03-09",
        "PRCP": "    0",
        "SNOW": "    0",
        "STATION": "USW00014734",
        "TMAX": "   94",
        "TMIN": "    6"
       },
       {
        "DATE": "2019-03-10",
        "PRCP": "  196",
        "SNOW": "    5",
        "STATION": "USW00014734",
        "TMAX": "   56",
        "TMIN": "   22"
       },
       {
        "DATE": "2019-03-11",
        "PRCP": "    0",
        "SNOW": "    0",
        "STATION": "USW00014734",
        "TMAX": "  128",
        "TMIN": "   39"
       },
       {
        "DATE": "2019-03-12",
        "PRCP": "    0",
        "SNOW": "    0",
        "STATION": "USW00014734",
        "TMAX": "   72",
        "TMIN": "   11"
       },
       {
        "DATE": "2019-03-13",
        "PRCP": "    0",
        "SNOW": "    0",
        "STATION": "USW00014734",
        "TMAX": "   83",
        "TMIN": "  -21"
       },
       {
        "DATE": "2019-03-14",
        "PRCP": "    0",
        "SNOW": "    0",
        "STATION": "USW00014734",
        "TMAX": "  122",
        "TMIN": "   56"
       },
       {
        "DATE": "2019-03-15",
        "PRCP": "  132",
        "SNOW": "    0",
        "STATION": "USW00014734",
        "TMAX": "  250",
        "TMIN": "   72"
       },
       {
        "DATE": "2019-03-16",
        "PRCP": "    0",
        "SNOW": "    0",
        "STATION": "USW00014734",
        "TMAX": "  133",
        "TMIN": "   28"
       },
       {
        "DATE": "2019-03-17",
        "PRCP": "    0",
        "SNOW": "    0",
        "STATION": "USW00014734",
        "TMAX": "   78",
        "TMIN": "  -10"
       },
       {
        "DATE": "2019-03-18",
        "PRCP": "    0",
        "SNOW": "    0",
        "STATION": "USW00014734",
        "TMAX": "   83",
        "TMIN": "  -10"
       },
       {
        "DATE": "2019-03-19",
        "PRCP": "    0",
        "SNOW": "    0",
        "STATION": "USW00014734",
        "TMAX": "  106",
        "TMIN": "  -16"
       },
       {
        "DATE": "2019-03-20",
        "PRCP": "    0",
        "SNOW": "    0",
        "STATION": "USW00014734",
        "TMAX": "  111",
        "TMIN": "   11"
       },
       {
        "DATE": "2019-03-21",
        "PRCP": "  254",
        "SNOW": "    0",
        "STATION": "USW00014734",
        "TMAX": "   89",
        "TMIN": "   56"
       },
       {
        "DATE": "2019-03-22",
        "PRCP": "  109",
        "SNOW": "    0",
        "STATION": "USW00014734",
        "TMAX": "  100",
        "TMIN": "   33"
       },
       {
        "DATE": "2019-03-23",
        "PRCP": "    0",
        "SNOW": "    0",
        "STATION": "USW00014734",
        "TMAX": "  100",
        "TMIN": "   11"
       },
       {
        "DATE": "2019-03-24",
        "PRCP": "    0",
        "SNOW": "    0",
        "STATION": "USW00014734",
        "TMAX": "  167",
        "TMIN": "   -5"
       },
       {
        "DATE": "2019-03-25",
        "PRCP": "    0",
        "SNOW": "    0",
        "STATION": "USW00014734",
        "TMAX": "  122",
        "TMIN": "   56"
       },
       {
        "DATE": "2019-03-26",
        "PRCP": "    0",
        "SNOW": "    0",
        "STATION": "USW00014734",
        "TMAX": "  100",
        "TMIN": "    0"
       },
       {
        "DATE": "2019-03-27",
        "PRCP": "    0",
        "SNOW": "    0",
        "STATION": "USW00014734",
        "TMAX": "   78",
        "TMIN": "  -10"
       },
       {
        "DATE": "2019-03-28",
        "PRCP": "    0",
        "SNOW": "    0",
        "STATION": "USW00014734",
        "TMAX": "  111",
        "TMIN": "    0"
       },
       {
        "DATE": "2019-03-29",
        "PRCP": "    0",
        "SNOW": "    0",
        "STATION": "USW00014734",
        "TMAX": "  144",
        "TMIN": "   78"
       },
       {
        "DATE": "2019-03-30",
        "PRCP": "    0",
        "SNOW": "    0",
        "STATION": "USW00014734",
        "TMAX": "  217",
        "TMIN": "  100"
       },
       {
        "DATE": "2019-03-31",
        "PRCP": "    8",
        "SNOW": "    0",
        "STATION": "USW00014734",
        "TMAX": "  183",
        "TMIN": "   39"
       },
       {
        "DATE": "2019-04-01",
        "PRCP": "    0",
        "SNOW": "    0",
        "STATION": "USW00014734",
        "TMAX": "   89",
        "TMIN": "    0"
       },
       {
        "DATE": "2019-04-02",
        "PRCP": "    0",
        "SNOW": "    0",
        "STATION": "USW00014734",
        "TMAX": "  100",
        "TMIN": "   17"
       },
       {
        "DATE": "2019-04-03",
        "PRCP": "    0",
        "SNOW": "    0",
        "STATION": "USW00014734",
        "TMAX": "  194",
        "TMIN": "   44"
       },
       {
        "DATE": "2019-04-04",
        "PRCP": "    0",
        "SNOW": "    0",
        "STATION": "USW00014734",
        "TMAX": "  167",
        "TMIN": "   50"
       },
       {
        "DATE": "2019-04-05",
        "PRCP": "   43",
        "SNOW": "    0",
        "STATION": "USW00014734",
        "TMAX": "   61",
        "TMIN": "   39"
       },
       {
        "DATE": "2019-04-06",
        "PRCP": "    0",
        "SNOW": "    0",
        "STATION": "USW00014734",
        "TMAX": "  206",
        "TMIN": "   39"
       },
       {
        "DATE": "2019-04-07",
        "PRCP": "    0",
        "SNOW": "    0",
        "STATION": "USW00014734",
        "TMAX": "  172",
        "TMIN": "   78"
       },
       {
        "DATE": "2019-04-08",
        "PRCP": "   66",
        "SNOW": "    0",
        "STATION": "USW00014734",
        "TMAX": "  267",
        "TMIN": "  106"
       },
       {
        "DATE": "2019-04-09",
        "PRCP": "    5",
        "SNOW": "    0",
        "STATION": "USW00014734",
        "TMAX": "  111",
        "TMIN": "   72"
       },
       {
        "DATE": "2019-04-10",
        "PRCP": "    0",
        "SNOW": "    0",
        "STATION": "USW00014734",
        "TMAX": "  161",
        "TMIN": "   67"
       },
       {
        "DATE": "2019-04-11",
        "PRCP": "    0",
        "SNOW": "    0",
        "STATION": "USW00014734",
        "TMAX": "  111",
        "TMIN": "   33"
       },
       {
        "DATE": "2019-04-12",
        "PRCP": "  145",
        "SNOW": "    0",
        "STATION": "USW00014734",
        "TMAX": "  211",
        "TMIN": "   78"
       },
       {
        "DATE": "2019-04-13",
        "PRCP": "   43",
        "SNOW": "    0",
        "STATION": "USW00014734",
        "TMAX": "  261",
        "TMIN": "  161"
       },
       {
        "DATE": "2019-04-14",
        "PRCP": "    5",
        "SNOW": "    0",
        "STATION": "USW00014734",
        "TMAX": "  222",
        "TMIN": "  133"
       },
       {
        "DATE": "2019-04-15",
        "PRCP": "  254",
        "SNOW": "    0",
        "STATION": "USW00014734",
        "TMAX": "  211",
        "TMIN": "   78"
       },
       {
        "DATE": "2019-04-16",
        "PRCP": "    0",
        "SNOW": "    0",
        "STATION": "USW00014734",
        "TMAX": "  194",
        "TMIN": "   28"
       },
       {
        "DATE": "2019-04-17",
        "PRCP": "    0",
        "SNOW": "    0",
        "STATION": "USW00014734",
        "TMAX": "  156",
        "TMIN": "   94"
       },
       {
        "DATE": "2019-04-18",
        "PRCP": "    0",
        "SNOW": "    0",
        "STATION": "USW00014734",
        "TMAX": "  178",
        "TMIN": "  106"
       },
       {
        "DATE": "2019-04-19",
        "PRCP": "   18",
        "SNOW": "    0",
        "STATION": "USW00014734",
        "TMAX": "  267",
        "TMIN": "  172"
       },
       {
        "DATE": "2019-04-20",
        "PRCP": "  130",
        "SNOW": "    0",
        "STATION": "USW00014734",
        "TMAX": "  206",
        "TMIN": "  117"
       },
       {
        "DATE": "2019-04-21",
        "PRCP": "    0",
        "SNOW": "    0",
        "STATION": "USW00014734",
        "TMAX": "  178",
        "TMIN": "  111"
       },
       {
        "DATE": "2019-04-22",
        "PRCP": "   23",
        "SNOW": "    0",
        "STATION": "USW00014734",
        "TMAX": "  183",
        "TMIN": "  100"
       },
       {
        "DATE": "2019-04-23",
        "PRCP": "    3",
        "SNOW": "    0",
        "STATION": "USW00014734",
        "TMAX": "  256",
        "TMIN": "  133"
       },
       {
        "DATE": "2019-04-24",
        "PRCP": "    0",
        "SNOW": "    0",
        "STATION": "USW00014734",
        "TMAX": "  217",
        "TMIN": "  128"
       },
       {
        "DATE": "2019-04-25",
        "PRCP": "    5",
        "SNOW": "    0",
        "STATION": "USW00014734",
        "TMAX": "  172",
        "TMIN": "   78"
       },
       {
        "DATE": "2019-04-26",
        "PRCP": "  206",
        "SNOW": "    0",
        "STATION": "USW00014734",
        "TMAX": "  167",
        "TMIN": "  111"
       },
       {
        "DATE": "2019-04-27",
        "PRCP": "    5",
        "SNOW": "    0",
        "STATION": "USW00014734",
        "TMAX": "  172",
        "TMIN": "   83"
       },
       {
        "DATE": "2019-04-28",
        "PRCP": "    0",
        "SNOW": "    0",
        "STATION": "USW00014734",
        "TMAX": "  133",
        "TMIN": "   72"
       },
       {
        "DATE": "2019-04-29",
        "PRCP": "    3",
        "SNOW": "    0",
        "STATION": "USW00014734",
        "TMAX": "  150",
        "TMIN": "   28"
       },
       {
        "DATE": "2019-04-30",
        "PRCP": "    5",
        "SNOW": "    0",
        "STATION": "USW00014734",
        "TMAX": "  178",
        "TMIN": "   94"
       },
       {
        "DATE": "2019-05-01",
        "PRCP": "    3",
        "SNOW": "    0",
        "STATION": "USW00014734",
        "TMAX": "  128",
        "TMIN": "  100"
       },
       {
        "DATE": "2019-05-02",
        "PRCP": "   36",
        "SNOW": "    0",
        "STATION": "USW00014734",
        "TMAX": "  256",
        "TMIN": "  106"
       },
       {
        "DATE": "2019-05-03",
        "PRCP": "    3",
        "SNOW": "    0",
        "STATION": "USW00014734",
        "TMAX": "  139",
        "TMIN": "  100"
       },
       {
        "DATE": "2019-05-04",
        "PRCP": "   18",
        "SNOW": "    0",
        "STATION": "USW00014734",
        "TMAX": "  211",
        "TMIN": "  122"
       },
       {
        "DATE": "2019-05-05",
        "PRCP": "  389",
        "SNOW": "    0",
        "STATION": "USW00014734",
        "TMAX": "  144",
        "TMIN": "  111"
       },
       {
        "DATE": "2019-05-06",
        "PRCP": "    0",
        "SNOW": "    0",
        "STATION": "USW00014734",
        "TMAX": "  222",
        "TMIN": "  111"
       },
       {
        "DATE": "2019-05-07",
        "PRCP": "   46",
        "SNOW": "    0",
        "STATION": "USW00014734",
        "TMAX": "  239",
        "TMIN": "  122"
       },
       {
        "DATE": "2019-05-08",
        "PRCP": "    0",
        "SNOW": "    0",
        "STATION": "USW00014734",
        "TMAX": "  217",
        "TMIN": "  133"
       },
       {
        "DATE": "2019-05-09",
        "PRCP": "    0",
        "SNOW": "    0",
        "STATION": "USW00014734",
        "TMAX": "  150",
        "TMIN": "  128"
       },
       {
        "DATE": "2019-05-10",
        "PRCP": "    8",
        "SNOW": "    0",
        "STATION": "USW00014734",
        "TMAX": "  261",
        "TMIN": "  128"
       },
       {
        "DATE": "2019-05-11",
        "PRCP": "    8",
        "SNOW": "    0",
        "STATION": "USW00014734",
        "TMAX": "  217",
        "TMIN": "  139"
       },
       {
        "DATE": "2019-05-12",
        "PRCP": "  376",
        "SNOW": "    0",
        "STATION": "USW00014734",
        "TMAX": "  150",
        "TMIN": "   67"
       },
       {
        "DATE": "2019-05-13",
        "PRCP": "  213",
        "SNOW": "    0",
        "STATION": "USW00014734",
        "TMAX": "  100",
        "TMIN": "   61"
       },
       {
        "DATE": "2019-05-14",
        "PRCP": "   71",
        "SNOW": "    0",
        "STATION": "USW00014734",
        "TMAX": "  111",
        "TMIN": "   67"
       },
       {
        "DATE": "2019-05-15",
        "PRCP": "    3",
        "SNOW": "    0",
        "STATION": "USW00014734",
        "TMAX": "  222",
        "TMIN": "   72"
       },
       {
        "DATE": "2019-05-16",
        "PRCP": "   10",
        "SNOW": "    0",
        "STATION": "USW00014734",
        "TMAX": "  239",
        "TMIN": "  111"
       },
       {
        "DATE": "2019-05-17",
        "PRCP": "    5",
        "SNOW": "    0",
        "STATION": "USW00014734",
        "TMAX": "  267",
        "TMIN": "  133"
       },
       {
        "DATE": "2019-05-18",
        "PRCP": "    0",
        "SNOW": "    0",
        "STATION": "USW00014734",
        "TMAX": "  256",
        "TMIN": "  144"
       },
       {
        "DATE": "2019-05-19",
        "PRCP": "   15",
        "SNOW": "    0",
        "STATION": "USW00014734",
        "TMAX": "  289",
        "TMIN": "  150"
       },
       {
        "DATE": "2019-05-20",
        "PRCP": "    0",
        "SNOW": "    0",
        "STATION": "USW00014734",
        "TMAX": "  317",
        "TMIN": "  200"
       },
       {
        "DATE": "2019-05-21",
        "PRCP": "    0",
        "SNOW": "    0",
        "STATION": "USW00014734",
        "TMAX": "  233",
        "TMIN": "  144"
       },
       {
        "DATE": "2019-05-22",
        "PRCP": "    0",
        "SNOW": "    0",
        "STATION": "USW00014734",
        "TMAX": "  250",
        "TMIN": "  128"
       },
       {
        "DATE": "2019-05-23",
        "PRCP": "  130",
        "SNOW": "    0",
        "STATION": "USW00014734",
        "TMAX": "  239",
        "TMIN": "  133"
       },
       {
        "DATE": "2019-05-24",
        "PRCP": "    0",
        "SNOW": "    0",
        "STATION": "USW00014734",
        "TMAX": "  256",
        "TMIN": "  156"
       },
       {
        "DATE": "2019-05-25",
        "PRCP": "    0",
        "SNOW": "    0",
        "STATION": "USW00014734",
        "TMAX": "  211",
        "TMIN": "  139"
       },
       {
        "DATE": "2019-05-26",
        "PRCP": "   51",
        "SNOW": "    0",
        "STATION": "USW00014734",
        "TMAX": "  322",
        "TMIN": "  161"
       },
       {
        "DATE": "2019-05-27",
        "PRCP": "    0",
        "SNOW": "    0",
        "STATION": "USW00014734",
        "TMAX": "  278",
        "TMIN": "  178"
       },
       {
        "DATE": "2019-05-28",
        "PRCP": "  196",
        "SNOW": "    0",
        "STATION": "USW00014734",
        "TMAX": "  244",
        "TMIN": "  172"
       },
       {
        "DATE": "2019-05-29",
        "PRCP": "  147",
        "SNOW": "    0",
        "STATION": "USW00014734",
        "TMAX": "  239",
        "TMIN": "  144"
       },
       {
        "DATE": "2019-05-30",
        "PRCP": "  132",
        "SNOW": "    0",
        "STATION": "USW00014734",
        "TMAX": "  200",
        "TMIN": "  144"
       },
       {
        "DATE": "2019-05-31",
        "PRCP": "    0",
        "SNOW": "    0",
        "STATION": "USW00014734",
        "TMAX": "  283",
        "TMIN": "  172"
       },
       {
        "DATE": "2019-06-01",
        "PRCP": "    0",
        "SNOW": "    0",
        "STATION": "USW00014734",
        "TMAX": "  261",
        "TMIN": "  172"
       },
       {
        "DATE": "2019-06-02",
        "PRCP": "   99",
        "SNOW": "    0",
        "STATION": "USW00014734",
        "TMAX": "  283",
        "TMIN": "  178"
       },
       {
        "DATE": "2019-06-03",
        "PRCP": "    0",
        "SNOW": "    0",
        "STATION": "USW00014734",
        "TMAX": "  228",
        "TMIN": "  139"
       },
       {
        "DATE": "2019-06-04",
        "PRCP": "    0",
        "SNOW": "    0",
        "STATION": "USW00014734",
        "TMAX": "  233",
        "TMIN": "  111"
       },
       {
        "DATE": "2019-06-05",
        "PRCP": "    0",
        "SNOW": "    0",
        "STATION": "USW00014734",
        "TMAX": "  289",
        "TMIN": "  172"
       },
       {
        "DATE": "2019-06-06",
        "PRCP": "   33",
        "SNOW": "    0",
        "STATION": "USW00014734",
        "TMAX": "  306",
        "TMIN": "  211"
       },
       {
        "DATE": "2019-06-07",
        "PRCP": "    0",
        "SNOW": "    0",
        "STATION": "USW00014734",
        "TMAX": "  272",
        "TMIN": "  183"
       },
       {
        "DATE": "2019-06-08",
        "PRCP": "    0",
        "SNOW": "    0",
        "STATION": "USW00014734",
        "TMAX": "  272",
        "TMIN": "  172"
       },
       {
        "DATE": "2019-06-09",
        "PRCP": "    0",
        "SNOW": "    0",
        "STATION": "USW00014734",
        "TMAX": "  250",
        "TMIN": "  144"
       },
       {
        "DATE": "2019-06-10",
        "PRCP": "  201",
        "SNOW": "    0",
        "STATION": "USW00014734",
        "TMAX": "  206",
        "TMIN": "  156"
       },
       {
        "DATE": "2019-06-11",
        "PRCP": "   46",
        "SNOW": "    0",
        "STATION": "USW00014734",
        "TMAX": "  267",
        "TMIN": "  183"
       },
       {
        "DATE": "2019-06-12",
        "PRCP": "    0",
        "SNOW": "    0",
        "STATION": "USW00014734",
        "TMAX": "  233",
        "TMIN": "  144"
       },
       {
        "DATE": "2019-06-13",
        "PRCP": "  165",
        "SNOW": "    0",
        "STATION": "USW00014734",
        "TMAX": "  200",
        "TMIN": "  139"
       },
       {
        "DATE": "2019-06-14",
        "PRCP": "    0",
        "SNOW": "    0",
        "STATION": "USW00014734",
        "TMAX": "  250",
        "TMIN": "  150"
       },
       {
        "DATE": "2019-06-15",
        "PRCP": "    0",
        "SNOW": "    0",
        "STATION": "USW00014734",
        "TMAX": "  289",
        "TMIN": "  133"
       },
       {
        "DATE": "2019-06-16",
        "PRCP": "    0",
        "SNOW": "    0",
        "STATION": "USW00014734",
        "TMAX": "  289",
        "TMIN": "  200"
       },
       {
        "DATE": "2019-06-17",
        "PRCP": "    3",
        "SNOW": "    0",
        "STATION": "USW00014734",
        "TMAX": "  250",
        "TMIN": "  206"
       },
       {
        "DATE": "2019-06-18",
        "PRCP": "  312",
        "SNOW": "    0",
        "STATION": "USW00014734",
        "TMAX": "  244",
        "TMIN": "  200"
       },
       {
        "DATE": "2019-06-19",
        "PRCP": "   33",
        "SNOW": "    0",
        "STATION": "USW00014734",
        "TMAX": "  217",
        "TMIN": "  194"
       },
       {
        "DATE": "2019-06-20",
        "PRCP": "  193",
        "SNOW": "    0",
        "STATION": "USW00014734",
        "TMAX": "  272",
        "TMIN": "  189"
       },
       {
        "DATE": "2019-06-21",
        "PRCP": "  170",
        "SNOW": "    0",
        "STATION": "USW00014734",
        "TMAX": "  272",
        "TMIN": "  189"
       },
       {
        "DATE": "2019-06-22",
        "PRCP": "    0",
        "SNOW": "    0",
        "STATION": "USW00014734",
        "TMAX": "  283",
        "TMIN": "  167"
       },
       {
        "DATE": "2019-06-23",
        "PRCP": "    0",
        "SNOW": "    0",
        "STATION": "USW00014734",
        "TMAX": "  306",
        "TMIN": "  161"
       },
       {
        "DATE": "2019-06-24",
        "PRCP": "    0",
        "SNOW": "    0",
        "STATION": "USW00014734",
        "TMAX": "  306",
        "TMIN": "  167"
       },
       {
        "DATE": "2019-06-25",
        "PRCP": "  188",
        "SNOW": "    0",
        "STATION": "USW00014734",
        "TMAX": "  311",
        "TMIN": "  217"
       },
       {
        "DATE": "2019-06-26",
        "PRCP": "    0",
        "SNOW": "    0",
        "STATION": "USW00014734",
        "TMAX": "  328",
        "TMIN": "  211"
       },
       {
        "DATE": "2019-06-27",
        "PRCP": "    0",
        "SNOW": "    0",
        "STATION": "USW00014734",
        "TMAX": "  328",
        "TMIN": "  217"
       },
       {
        "DATE": "2019-06-28",
        "PRCP": "    0",
        "SNOW": "    0",
        "STATION": "USW00014734",
        "TMAX": "  322",
        "TMIN": "  217"
       },
       {
        "DATE": "2019-06-29",
        "PRCP": "   81",
        "SNOW": "    0",
        "STATION": "USW00014734",
        "TMAX": "  339",
        "TMIN": "  217"
       },
       {
        "DATE": "2019-06-30",
        "PRCP": "    0",
        "SNOW": "    0",
        "STATION": "USW00014734",
        "TMAX": "  306",
        "TMIN": "  211"
       },
       {
        "DATE": "2019-07-01",
        "PRCP": "    0",
        "SNOW": "    0",
        "STATION": "USW00014734",
        "TMAX": "  311",
        "TMIN": "  189"
       },
       {
        "DATE": "2019-07-02",
        "PRCP": "    0",
        "SNOW": "    0",
        "STATION": "USW00014734",
        "TMAX": "  322",
        "TMIN": "  194"
       },
       {
        "DATE": "2019-07-03",
        "PRCP": "    0",
        "SNOW": "    0",
        "STATION": "USW00014734",
        "TMAX": "  306",
        "TMIN": "  250"
       },
       {
        "DATE": "2019-07-04",
        "PRCP": "    0",
        "SNOW": "    0",
        "STATION": "USW00014734",
        "TMAX": "  317",
        "TMIN": "  233"
       },
       {
        "DATE": "2019-07-05",
        "PRCP": "    0",
        "SNOW": "    0",
        "STATION": "USW00014734",
        "TMAX": "  283",
        "TMIN": "  233"
       },
       {
        "DATE": "2019-07-06",
        "PRCP": "    8",
        "SNOW": "    0",
        "STATION": "USW00014734",
        "TMAX": "  333",
        "TMIN": "  250"
       },
       {
        "DATE": "2019-07-07",
        "PRCP": "    0",
        "SNOW": "    0",
        "STATION": "USW00014734",
        "TMAX": "  306",
        "TMIN": "  222"
       },
       {
        "DATE": "2019-07-08",
        "PRCP": "    8",
        "SNOW": "    0",
        "STATION": "USW00014734",
        "TMAX": "  267",
        "TMIN": "  206"
       },
       {
        "DATE": "2019-07-09",
        "PRCP": "    0",
        "SNOW": "    0",
        "STATION": "USW00014734",
        "TMAX": "  328",
        "TMIN": "  194"
       },
       {
        "DATE": "2019-07-10",
        "PRCP": "    0",
        "SNOW": "    0",
        "STATION": "USW00014734",
        "TMAX": "  333",
        "TMIN": "  222"
       },
       {
        "DATE": "2019-07-11",
        "PRCP": "  376",
        "SNOW": "    0",
        "STATION": "USW00014734",
        "TMAX": "  300",
        "TMIN": "  222"
       },
       {
        "DATE": "2019-07-12",
        "PRCP": "    0",
        "SNOW": "    0",
        "STATION": "USW00014734",
        "TMAX": "  322",
        "TMIN": "  217"
       },
       {
        "DATE": "2019-07-13",
        "PRCP": "    0",
        "SNOW": "    0",
        "STATION": "USW00014734",
        "TMAX": "  317",
        "TMIN": "  217"
       },
       {
        "DATE": "2019-07-14",
        "PRCP": "    0",
        "SNOW": "    0",
        "STATION": "USW00014734",
        "TMAX": "  333",
        "TMIN": "  222"
       },
       {
        "DATE": "2019-07-15",
        "PRCP": "    0",
        "SNOW": "    0",
        "STATION": "USW00014734",
        "TMAX": "  317",
        "TMIN": "  211"
       },
       {
        "DATE": "2019-07-16",
        "PRCP": "    0",
        "SNOW": "    0",
        "STATION": "USW00014734",
        "TMAX": "  339",
        "TMIN": "  222"
       },
       {
        "DATE": "2019-07-17",
        "PRCP": "  244",
        "SNOW": "    0",
        "STATION": "USW00014734",
        "TMAX": "  361",
        "TMIN": "  233"
       },
       {
        "DATE": "2019-07-18",
        "PRCP": "   84",
        "SNOW": "    0",
        "STATION": "USW00014734",
        "TMAX": "  289",
        "TMIN": "  222"
       },
       {
        "DATE": "2019-07-19",
        "PRCP": "    0",
        "SNOW": "    0",
        "STATION": "USW00014734",
        "TMAX": "  350",
        "TMIN": "  222"
       },
       {
        "DATE": "2019-07-20",
        "PRCP": "    0",
        "SNOW": "    0",
        "STATION": "USW00014734",
        "TMAX": "  367",
        "TMIN": "  267"
       },
       {
        "DATE": "2019-07-21",
        "PRCP": "    0",
        "SNOW": "    0",
        "STATION": "USW00014734",
        "TMAX": "  372",
        "TMIN": "  267"
       },
       {
        "DATE": "2019-07-22",
        "PRCP": "  452",
        "SNOW": "    0",
        "STATION": "USW00014734",
        "TMAX": "  317",
        "TMIN": "  228"
       },
       {
        "DATE": "2019-07-23",
        "PRCP": "  152",
        "SNOW": "    0",
        "STATION": "USW00014734",
        "TMAX": "  244",
        "TMIN": "  194"
       },
       {
        "DATE": "2019-07-24",
        "PRCP": "    3",
        "SNOW": "    0",
        "STATION": "USW00014734",
        "TMAX": "  300",
        "TMIN": "  200"
       },
       {
        "DATE": "2019-07-25",
        "PRCP": "    0",
        "SNOW": "    0",
        "STATION": "USW00014734",
        "TMAX": "  306",
        "TMIN": "  206"
       },
       {
        "DATE": "2019-07-26",
        "PRCP": "    0",
        "SNOW": "    0",
        "STATION": "USW00014734",
        "TMAX": "  306",
        "TMIN": "  194"
       },
       {
        "DATE": "2019-07-27",
        "PRCP": "    0",
        "SNOW": "    0",
        "STATION": "USW00014734",
        "TMAX": "  311",
        "TMIN": "  217"
       },
       {
        "DATE": "2019-07-28",
        "PRCP": "    0",
        "SNOW": "    0",
        "STATION": "USW00014734",
        "TMAX": "  333",
        "TMIN": "  217"
       },
       {
        "DATE": "2019-07-29",
        "PRCP": "    0",
        "SNOW": "    0",
        "STATION": "USW00014734",
        "TMAX": "  344",
        "TMIN": "  222"
       },
       {
        "DATE": "2019-07-30",
        "PRCP": "    0",
        "SNOW": "    0",
        "STATION": "USW00014734",
        "TMAX": "  350",
        "TMIN": "  239"
       },
       {
        "DATE": "2019-07-31",
        "PRCP": "  406",
        "SNOW": "    0",
        "STATION": "USW00014734",
        "TMAX": "  317",
        "TMIN": "  211"
       },
       {
        "DATE": "2019-08-01",
        "PRCP": "    0",
        "SNOW": "    0",
        "STATION": "USW00014734",
        "TMAX": "  317",
        "TMIN": "  211"
       },
       {
        "DATE": "2019-08-02",
        "PRCP": "    0",
        "SNOW": "    0",
        "STATION": "USW00014734",
        "TMAX": "  294",
        "TMIN": "  228"
       },
       {
        "DATE": "2019-08-03",
        "PRCP": "   58",
        "SNOW": "    0",
        "STATION": "USW00014734",
        "TMAX": "  294",
        "TMIN": "  217"
       },
       {
        "DATE": "2019-08-04",
        "PRCP": "  127",
        "SNOW": "    0",
        "STATION": "USW00014734",
        "TMAX": "  328",
        "TMIN": "  211"
       },
       {
        "DATE": "2019-08-05",
        "PRCP": "    0",
        "SNOW": "    0",
        "STATION": "USW00014734",
        "TMAX": "  272",
        "TMIN": "  206"
       },
       {
        "DATE": "2019-08-06",
        "PRCP": "   79",
        "SNOW": "    0",
        "STATION": "USW00014734",
        "TMAX": "  278",
        "TMIN": "  222"
       },
       {
        "DATE": "2019-08-07",
        "PRCP": "  391",
        "SNOW": "    0",
        "STATION": "USW00014734",
        "TMAX": "  289",
        "TMIN": "  206"
       },
       {
        "DATE": "2019-08-08",
        "PRCP": "    0",
        "SNOW": "    0",
        "STATION": "USW00014734",
        "TMAX": "  306",
        "TMIN": "  200"
       },
       {
        "DATE": "2019-08-09",
        "PRCP": "    0",
        "SNOW": "    0",
        "STATION": "USW00014734",
        "TMAX": "  300",
        "TMIN": "  194"
       },
       {
        "DATE": "2019-08-10",
        "PRCP": "    0",
        "SNOW": "    0",
        "STATION": "USW00014734",
        "TMAX": "  289",
        "TMIN": "  183"
       },
       {
        "DATE": "2019-08-11",
        "PRCP": "    0",
        "SNOW": "    0",
        "STATION": "USW00014734",
        "TMAX": "  278",
        "TMIN": "  172"
       },
       {
        "DATE": "2019-08-12",
        "PRCP": "    0",
        "SNOW": "    0",
        "STATION": "USW00014734",
        "TMAX": "  311",
        "TMIN": "  178"
       },
       {
        "DATE": "2019-08-13",
        "PRCP": "    0",
        "SNOW": "    0",
        "STATION": "USW00014734",
        "TMAX": "  272",
        "TMIN": "  228"
       },
       {
        "DATE": "2019-08-14",
        "PRCP": "  429",
        "SNOW": "    0",
        "STATION": "USW00014734",
        "TMAX": "  289",
        "TMIN": "  222"
       },
       {
        "DATE": "2019-08-15",
        "PRCP": "    0",
        "SNOW": "    0",
        "STATION": "USW00014734",
        "TMAX": "  283",
        "TMIN": "  222"
       },
       {
        "DATE": "2019-08-16",
        "PRCP": "    0",
        "SNOW": "    0",
        "STATION": "USW00014734",
        "TMAX": "  283",
        "TMIN": "  211"
       },
       {
        "DATE": "2019-08-17",
        "PRCP": "    0",
        "SNOW": "    0",
        "STATION": "USW00014734",
        "TMAX": "  311",
        "TMIN": "  239"
       },
       {
        "DATE": "2019-08-18",
        "PRCP": "    0",
        "SNOW": "    0",
        "STATION": "USW00014734",
        "TMAX": "  322",
        "TMIN": "  233"
       },
       {
        "DATE": "2019-08-19",
        "PRCP": "    0",
        "SNOW": "    0",
        "STATION": "USW00014734",
        "TMAX": "  344",
        "TMIN": "  228"
       },
       {
        "DATE": "2019-08-20",
        "PRCP": "    0",
        "SNOW": "    0",
        "STATION": "USW00014734",
        "TMAX": "  306",
        "TMIN": "  233"
       },
       {
        "DATE": "2019-08-21",
        "PRCP": "  130",
        "SNOW": "    0",
        "STATION": "USW00014734",
        "TMAX": "  317",
        "TMIN": "  233"
       },
       {
        "DATE": "2019-08-22",
        "PRCP": "  287",
        "SNOW": "    0",
        "STATION": "USW00014734",
        "TMAX": "  333",
        "TMIN": "  217"
       },
       {
        "DATE": "2019-08-23",
        "PRCP": "    3",
        "SNOW": "    0",
        "STATION": "USW00014734",
        "TMAX": "  239",
        "TMIN": "  183"
       },
       {
        "DATE": "2019-08-24",
        "PRCP": "    0",
        "SNOW": "    0",
        "STATION": "USW00014734",
        "TMAX": "  256",
        "TMIN": "  172"
       },
       {
        "DATE": "2019-08-25",
        "PRCP": "    0",
        "SNOW": "    0",
        "STATION": "USW00014734",
        "TMAX": "  250",
        "TMIN": "  167"
       },
       {
        "DATE": "2019-08-26",
        "PRCP": "    0",
        "SNOW": "    0",
        "STATION": "USW00014734",
        "TMAX": "  239",
        "TMIN": "  150"
       },
       {
        "DATE": "2019-08-27",
        "PRCP": "    0",
        "SNOW": "    0",
        "STATION": "USW00014734",
        "TMAX": "  233",
        "TMIN": "  156"
       },
       {
        "DATE": "2019-08-28",
        "PRCP": "    5",
        "SNOW": "    0",
        "STATION": "USW00014734",
        "TMAX": "  250",
        "TMIN": "  194"
       },
       {
        "DATE": "2019-08-29",
        "PRCP": "    0",
        "SNOW": "    0",
        "STATION": "USW00014734",
        "TMAX": "  289",
        "TMIN": "  189"
       },
       {
        "DATE": "2019-08-30",
        "PRCP": "    0",
        "SNOW": "    0",
        "STATION": "USW00014734",
        "TMAX": "  317",
        "TMIN": "  161"
       },
       {
        "DATE": "2019-08-31",
        "PRCP": "    0",
        "SNOW": "    0",
        "STATION": "USW00014734",
        "TMAX": "  283",
        "TMIN": "  194"
       },
       {
        "DATE": "2019-09-01",
        "PRCP": "    0",
        "SNOW": "    0",
        "STATION": "USW00014734",
        "TMAX": "  250",
        "TMIN": "  167"
       },
       {
        "DATE": "2019-09-02",
        "PRCP": "  302",
        "SNOW": "    0",
        "STATION": "USW00014734",
        "TMAX": "  250",
        "TMIN": "  211"
       },
       {
        "DATE": "2019-09-03",
        "PRCP": "    0",
        "SNOW": "    0",
        "STATION": "USW00014734",
        "TMAX": "  278",
        "TMIN": "  189"
       },
       {
        "DATE": "2019-09-04",
        "PRCP": "    0",
        "SNOW": "    0",
        "STATION": "USW00014734",
        "TMAX": "  322",
        "TMIN": "  194"
       },
       {
        "DATE": "2019-09-05",
        "PRCP": "    0",
        "SNOW": "    0",
        "STATION": "USW00014734",
        "TMAX": "  239",
        "TMIN": "  178"
       },
       {
        "DATE": "2019-09-06",
        "PRCP": "   81",
        "SNOW": "    0",
        "STATION": "USW00014734",
        "TMAX": "  200",
        "TMIN": "  150"
       },
       {
        "DATE": "2019-09-07",
        "PRCP": "    0",
        "SNOW": "    0",
        "STATION": "USW00014734",
        "TMAX": "  261",
        "TMIN": "  139"
       },
       {
        "DATE": "2019-09-08",
        "PRCP": "    0",
        "SNOW": "    0",
        "STATION": "USW00014734",
        "TMAX": "  267",
        "TMIN": "  150"
       },
       {
        "DATE": "2019-09-09",
        "PRCP": "    0",
        "SNOW": "    0",
        "STATION": "USW00014734",
        "TMAX": "  256",
        "TMIN": "  178"
       },
       {
        "DATE": "2019-09-10",
        "PRCP": "    0",
        "SNOW": "    0",
        "STATION": "USW00014734",
        "TMAX": "  256",
        "TMIN": "  200"
       },
       {
        "DATE": "2019-09-11",
        "PRCP": "    0",
        "SNOW": "    0",
        "STATION": "USW00014734",
        "TMAX": "  328",
        "TMIN": "  200"
       },
       {
        "DATE": "2019-09-12",
        "PRCP": "   10",
        "SNOW": "    0",
        "STATION": "USW00014734",
        "TMAX": "  272",
        "TMIN": "  172"
       },
       {
        "DATE": "2019-09-13",
        "PRCP": "    0",
        "SNOW": "    0",
        "STATION": "USW00014734",
        "TMAX": "  217",
        "TMIN": "  139"
       },
       {
        "DATE": "2019-09-14",
        "PRCP": "    0",
        "SNOW": "    0",
        "STATION": "USW00014734",
        "TMAX": "  250",
        "TMIN": "  183"
       },
       {
        "DATE": "2019-09-15",
        "PRCP": "    0",
        "SNOW": "    0",
        "STATION": "USW00014734",
        "TMAX": "  289",
        "TMIN": "  194"
       },
       {
        "DATE": "2019-09-16",
        "PRCP": "    0",
        "SNOW": "    0",
        "STATION": "USW00014734",
        "TMAX": "  267",
        "TMIN": "  194"
       },
       {
        "DATE": "2019-09-17",
        "PRCP": "    0",
        "SNOW": "    0",
        "STATION": "USW00014734",
        "TMAX": "  261",
        "TMIN": "  150"
       },
       {
        "DATE": "2019-09-18",
        "PRCP": "    0",
        "SNOW": "    0",
        "STATION": "USW00014734",
        "TMAX": "  217",
        "TMIN": "  133"
       },
       {
        "DATE": "2019-09-19",
        "PRCP": "    0",
        "SNOW": "    0",
        "STATION": "USW00014734",
        "TMAX": "  222",
        "TMIN": "   94"
       },
       {
        "DATE": "2019-09-20",
        "PRCP": "    0",
        "SNOW": "    0",
        "STATION": "USW00014734",
        "TMAX": "  267",
        "TMIN": "  100"
       },
       {
        "DATE": "2019-09-21",
        "PRCP": "    0",
        "SNOW": "    0",
        "STATION": "USW00014734",
        "TMAX": "  300",
        "TMIN": "  128"
       },
       {
        "DATE": "2019-09-22",
        "PRCP": "    0",
        "SNOW": "    0",
        "STATION": "USW00014734",
        "TMAX": "  317",
        "TMIN": "  156"
       },
       {
        "DATE": "2019-09-23",
        "PRCP": "   13",
        "SNOW": "    0",
        "STATION": "USW00014734",
        "TMAX": "  339",
        "TMIN": "  211"
       },
       {
        "DATE": "2019-09-24",
        "PRCP": "    0",
        "SNOW": "    0",
        "STATION": "USW00014734",
        "TMAX": "  261",
        "TMIN": "  172"
       },
       {
        "DATE": "2019-09-25",
        "PRCP": "    0",
        "SNOW": "    0",
        "STATION": "USW00014734",
        "TMAX": "  272",
        "TMIN": "  144"
       },
       {
        "DATE": "2019-09-26",
        "PRCP": "    0",
        "SNOW": "    0",
        "STATION": "USW00014734",
        "TMAX": "  300",
        "TMIN": "  150"
       },
       {
        "DATE": "2019-09-27",
        "PRCP": "    0",
        "SNOW": "    0",
        "STATION": "USW00014734",
        "TMAX": "  261",
        "TMIN": "  144"
       },
       {
        "DATE": "2019-09-28",
        "PRCP": "    0",
        "SNOW": "    0",
        "STATION": "USW00014734",
        "TMAX": "  300",
        "TMIN": "  156"
       },
       {
        "DATE": "2019-09-29",
        "PRCP": "    0",
        "SNOW": "    0",
        "STATION": "USW00014734",
        "TMAX": "  272",
        "TMIN": "  178"
       },
       {
        "DATE": "2019-09-30",
        "PRCP": "    0",
        "SNOW": "    0",
        "STATION": "USW00014734",
        "TMAX": "  211",
        "TMIN": "  161"
       },
       {
        "DATE": "2019-10-01",
        "PRCP": "    0",
        "SNOW": "    0",
        "STATION": "USW00014734",
        "TMAX": "  289",
        "TMIN": "  172"
       },
       {
        "DATE": "2019-10-02",
        "PRCP": "  147",
        "SNOW": "    0",
        "STATION": "USW00014734",
        "TMAX": "  356",
        "TMIN": "  194"
       },
       {
        "DATE": "2019-10-03",
        "PRCP": "  124",
        "SNOW": "    0",
        "STATION": "USW00014734",
        "TMAX": "  194",
        "TMIN": "  128"
       },
       {
        "DATE": "2019-10-04",
        "PRCP": "    0",
        "SNOW": "    0",
        "STATION": "USW00014734",
        "TMAX": "  200",
        "TMIN": "   94"
       },
       {
        "DATE": "2019-10-05",
        "PRCP": "    0",
        "SNOW": "    0",
        "STATION": "USW00014734",
        "TMAX": "  156",
        "TMIN": "   61"
       },
       {
        "DATE": "2019-10-06",
        "PRCP": "    0",
        "SNOW": "    0",
        "STATION": "USW00014734",
        "TMAX": "  217",
        "TMIN": "  150"
       },
       {
        "DATE": "2019-10-07",
        "PRCP": "   74",
        "SNOW": "    0",
        "STATION": "USW00014734",
        "TMAX": "  267",
        "TMIN": "  150"
       },
       {
        "DATE": "2019-10-08",
        "PRCP": "    8",
        "SNOW": "    0",
        "STATION": "USW00014734",
        "TMAX": "  183",
        "TMIN": "  144"
       },
       {
        "DATE": "2019-10-09",
        "PRCP": "   66",
        "SNOW": "    0",
        "STATION": "USW00014734",
        "TMAX": "  150",
        "TMIN": "  111"
       },
       {
        "DATE": "2019-10-10",
        "PRCP": "    0",
        "SNOW": "    0",
        "STATION": "USW00014734",
        "TMAX": "  228",
        "TMIN": "  117"
       },
       {
        "DATE": "2019-10-11",
        "PRCP": "    0",
        "SNOW": "    0",
        "STATION": "USW00014734",
        "TMAX": "  183",
        "TMIN": "  122"
       },
       {
        "DATE": "2019-10-12",
        "PRCP": "    0",
        "SNOW": "    0",
        "STATION": "USW00014734",
        "TMAX": "  211",
        "TMIN": "  128"
       },
       {
        "DATE": "2019-10-13",
        "PRCP": "    0",
        "SNOW": "    0",
        "STATION": "USW00014734",
        "TMAX": "  194",
        "TMIN": "  111"
       },
       {
        "DATE": "2019-10-14",
        "PRCP": "    0",
        "SNOW": "    0",
        "STATION": "USW00014734",
        "TMAX": "  239",
        "TMIN": "  144"
       },
       {
        "DATE": "2019-10-15",
        "PRCP": "    0",
        "SNOW": "    0",
        "STATION": "USW00014734",
        "TMAX": "  189",
        "TMIN": "  106"
       },
       {
        "DATE": "2019-10-16",
        "PRCP": "  541",
        "SNOW": "    0",
        "STATION": "USW00014734",
        "TMAX": "  189",
        "TMIN": "  100"
       },
       {
        "DATE": "2019-10-17",
        "PRCP": "    0",
        "SNOW": "    0",
        "STATION": "USW00014734",
        "TMAX": "  156",
        "TMIN": "  106"
       },
       {
        "DATE": "2019-10-18",
        "PRCP": "    0",
        "SNOW": "    0",
        "STATION": "USW00014734",
        "TMAX": "  161",
        "TMIN": "   83"
       },
       {
        "DATE": "2019-10-19",
        "PRCP": "    0",
        "SNOW": "    0",
        "STATION": "USW00014734",
        "TMAX": "  172",
        "TMIN": "   44"
       },
       {
        "DATE": "2019-10-20",
        "PRCP": "  168",
        "SNOW": "    0",
        "STATION": "USW00014734",
        "TMAX": "  144",
        "TMIN": "   67"
       },
       {
        "DATE": "2019-10-21",
        "PRCP": "    0",
        "SNOW": "    0",
        "STATION": "USW00014734",
        "TMAX": "  206",
        "TMIN": "   94"
       },
       {
        "DATE": "2019-10-22",
        "PRCP": "  130",
        "SNOW": "    0",
        "STATION": "USW00014734",
        "TMAX": "  178",
        "TMIN": "  117"
       },
       {
        "DATE": "2019-10-23",
        "PRCP": "    3",
        "SNOW": "    0",
        "STATION": "USW00014734",
        "TMAX": "  200",
        "TMIN": "  100"
       },
       {
        "DATE": "2019-10-24",
        "PRCP": "    0",
        "SNOW": "    0",
        "STATION": "USW00014734",
        "TMAX": "  206",
        "TMIN": "   72"
       },
       {
        "DATE": "2019-10-25",
        "PRCP": "    0",
        "SNOW": "    0",
        "STATION": "USW00014734",
        "TMAX": "  194",
        "TMIN": "   78"
       },
       {
        "DATE": "2019-10-26",
        "PRCP": "    3",
        "SNOW": "    0",
        "STATION": "USW00014734",
        "TMAX": "  172",
        "TMIN": "  100"
       },
       {
        "DATE": "2019-10-27",
        "PRCP": "  351",
        "SNOW": "    0",
        "STATION": "USW00014734",
        "TMAX": "  211",
        "TMIN": "  139"
       },
       {
        "DATE": "2019-10-28",
        "PRCP": "    3",
        "SNOW": "    0",
        "STATION": "USW00014734",
        "TMAX": "  172",
        "TMIN": "  128"
       },
       {
        "DATE": "2019-10-29",
        "PRCP": "   41",
        "SNOW": "    0",
        "STATION": "USW00014734",
        "TMAX": "  156",
        "TMIN": "  128"
       },
       {
        "DATE": "2019-10-30",
        "PRCP": "   38",
        "SNOW": "    0",
        "STATION": "USW00014734",
        "TMAX": "  183",
        "TMIN": "  144"
       },
       {
        "DATE": "2019-10-31",
        "PRCP": "  150",
        "SNOW": "    0",
        "STATION": "USW00014734",
        "TMAX": "  233",
        "TMIN": "  167"
       },
       {
        "DATE": "2019-11-01",
        "PRCP": "    5",
        "SNOW": "    0",
        "STATION": "USW00014734",
        "TMAX": "  167",
        "TMIN": "   61"
       },
       {
        "DATE": "2019-11-02",
        "PRCP": "    0",
        "SNOW": "    0",
        "STATION": "USW00014734",
        "TMAX": "  117",
        "TMIN": "   22"
       },
       {
        "DATE": "2019-11-03",
        "PRCP": "    0",
        "SNOW": "    0",
        "STATION": "USW00014734",
        "TMAX": "  128",
        "TMIN": "   22"
       },
       {
        "DATE": "2019-11-04",
        "PRCP": "    0",
        "SNOW": "    0",
        "STATION": "USW00014734",
        "TMAX": "  139",
        "TMIN": "   17"
       },
       {
        "DATE": "2019-11-05",
        "PRCP": "    0",
        "SNOW": "    0",
        "STATION": "USW00014734",
        "TMAX": "  161",
        "TMIN": "   72"
       },
       {
        "DATE": "2019-11-06",
        "PRCP": "    0",
        "SNOW": "    0",
        "STATION": "USW00014734",
        "TMAX": "  133",
        "TMIN": "   56"
       },
       {
        "DATE": "2019-11-07",
        "PRCP": "   20",
        "SNOW": "    0",
        "STATION": "USW00014734",
        "TMAX": "  150",
        "TMIN": "   44"
       },
       {
        "DATE": "2019-11-08",
        "PRCP": "    0",
        "SNOW": "    0",
        "STATION": "USW00014734",
        "TMAX": "   50",
        "TMIN": "  -16"
       },
       {
        "DATE": "2019-11-09",
        "PRCP": "    0",
        "SNOW": "    0",
        "STATION": "USW00014734",
        "TMAX": "   50",
        "TMIN": "  -38"
       },
       {
        "DATE": "2019-11-10",
        "PRCP": "    0",
        "SNOW": "    0",
        "STATION": "USW00014734",
        "TMAX": "  117",
        "TMIN": "    6"
       },
       {
        "DATE": "2019-11-11",
        "PRCP": "    0",
        "SNOW": "    0",
        "STATION": "USW00014734",
        "TMAX": "  161",
        "TMIN": "   56"
       },
       {
        "DATE": "2019-11-12",
        "PRCP": "    8",
        "SNOW": "    0",
        "STATION": "USW00014734",
        "TMAX": "  128",
        "TMIN": "  -38"
       },
       {
        "DATE": "2019-11-13",
        "PRCP": "    0",
        "SNOW": "    0",
        "STATION": "USW00014734",
        "TMAX": "   17",
        "TMIN": "  -55"
       },
       {
        "DATE": "2019-11-14",
        "PRCP": "    0",
        "SNOW": "    0",
        "STATION": "USW00014734",
        "TMAX": "   78",
        "TMIN": "  -43"
       },
       {
        "DATE": "2019-11-15",
        "PRCP": "    0",
        "SNOW": "    0",
        "STATION": "USW00014734",
        "TMAX": "  111",
        "TMIN": "  -21"
       },
       {
        "DATE": "2019-11-16",
        "PRCP": "    0",
        "SNOW": "    0",
        "STATION": "USW00014734",
        "TMAX": "   61",
        "TMIN": "  -16"
       },
       {
        "DATE": "2019-11-17",
        "PRCP": "    0",
        "SNOW": "    0",
        "STATION": "USW00014734",
        "TMAX": "   61",
        "TMIN": "  -21"
       },
       {
        "DATE": "2019-11-18",
        "PRCP": "   89",
        "SNOW": "    0",
        "STATION": "USW00014734",
        "TMAX": "   61",
        "TMIN": "   28"
       },
       {
        "DATE": "2019-11-19",
        "PRCP": "   48",
        "SNOW": "    0",
        "STATION": "USW00014734",
        "TMAX": "  100",
        "TMIN": "   50"
       },
       {
        "DATE": "2019-11-20",
        "PRCP": "    0",
        "SNOW": "    0",
        "STATION": "USW00014734",
        "TMAX": "  106",
        "TMIN": "   44"
       },
       {
        "DATE": "2019-11-21",
        "PRCP": "    0",
        "SNOW": "    0",
        "STATION": "USW00014734",
        "TMAX": "  128",
        "TMIN": "   39"
       },
       {
        "DATE": "2019-11-22",
        "PRCP": "   18",
        "SNOW": "    0",
        "STATION": "USW00014734",
        "TMAX": "  117",
        "TMIN": "   33"
       },
       {
        "DATE": "2019-11-23",
        "PRCP": "    8",
        "SNOW": "    0",
        "STATION": "USW00014734",
        "TMAX": "   78",
        "TMIN": "  -10"
       },
       {
        "DATE": "2019-11-24",
        "PRCP": "  180",
        "SNOW": "    0",
        "STATION": "USW00014734",
        "TMAX": "   72",
        "TMIN": "   33"
       },
       {
        "DATE": "2019-11-25",
        "PRCP": "    0",
        "SNOW": "    0",
        "STATION": "USW00014734",
        "TMAX": "  122",
        "TMIN": "   17"
       },
       {
        "DATE": "2019-11-26",
        "PRCP": "    0",
        "SNOW": "    0",
        "STATION": "USW00014734",
        "TMAX": "  167",
        "TMIN": "   22"
       },
       {
        "DATE": "2019-11-27",
        "PRCP": "    3",
        "SNOW": "    0",
        "STATION": "USW00014734",
        "TMAX": "  156",
        "TMIN": "   67"
       },
       {
        "DATE": "2019-11-28",
        "PRCP": "    0",
        "SNOW": "    0",
        "STATION": "USW00014734",
        "TMAX": "  117",
        "TMIN": "   28"
       },
       {
        "DATE": "2019-11-29",
        "PRCP": "    0",
        "SNOW": "    0",
        "STATION": "USW00014734",
        "TMAX": "   56",
        "TMIN": "  -10"
       },
       {
        "DATE": "2019-11-30",
        "PRCP": "    0",
        "SNOW": "    0",
        "STATION": "USW00014734",
        "TMAX": "   78",
        "TMIN": "  -10"
       },
       {
        "DATE": "2019-12-01",
        "PRCP": "  175",
        "SNOW": "    3",
        "STATION": "USW00014734",
        "TMAX": "   28",
        "TMIN": "  -21"
       },
       {
        "DATE": "2019-12-02",
        "PRCP": "   81",
        "SNOW": "   53",
        "STATION": "USW00014734",
        "TMAX": "   28",
        "TMIN": "    0"
       },
       {
        "DATE": "2019-12-03",
        "PRCP": "    3",
        "SNOW": "    8",
        "STATION": "USW00014734",
        "TMAX": "   33",
        "TMIN": "   -5"
       },
       {
        "DATE": "2019-12-04",
        "PRCP": "    0",
        "SNOW": "    0",
        "STATION": "USW00014734",
        "TMAX": "   39",
        "TMIN": "  -10"
       },
       {
        "DATE": "2019-12-05",
        "PRCP": "    0",
        "SNOW": "    0",
        "STATION": "USW00014734",
        "TMAX": "   67",
        "TMIN": "   17"
       },
       {
        "DATE": "2019-12-06",
        "PRCP": "    0",
        "SNOW": "    0",
        "STATION": "USW00014734",
        "TMAX": "  100",
        "TMIN": "    0"
       },
       {
        "DATE": "2019-12-07",
        "PRCP": "    0",
        "SNOW": "    0",
        "STATION": "USW00014734",
        "TMAX": "   44",
        "TMIN": "  -27"
       },
       {
        "DATE": "2019-12-08",
        "PRCP": "    0",
        "SNOW": "    0",
        "STATION": "USW00014734",
        "TMAX": "   56",
        "TMIN": "  -49"
       },
       {
        "DATE": "2019-12-09",
        "PRCP": "  378",
        "SNOW": "    0",
        "STATION": "USW00014734",
        "TMAX": "  128",
        "TMIN": "   39"
       },
       {
        "DATE": "2019-12-10",
        "PRCP": "   25",
        "SNOW": "    0",
        "STATION": "USW00014734",
        "TMAX": "  144",
        "TMIN": "   44"
       },
       {
        "DATE": "2019-12-11",
        "PRCP": "   41",
        "SNOW": "   18",
        "STATION": "USW00014734",
        "TMAX": "   44",
        "TMIN": "   -5"
       },
       {
        "DATE": "2019-12-12",
        "PRCP": "    0",
        "SNOW": "    0",
        "STATION": "USW00014734",
        "TMAX": "   22",
        "TMIN": "  -32"
       },
       {
        "DATE": "2019-12-13",
        "PRCP": "  196",
        "SNOW": "    0",
        "STATION": "USW00014734",
        "TMAX": "   94",
        "TMIN": "  -10"
       },
       {
        "DATE": "2019-12-14",
        "PRCP": "  183",
        "SNOW": "    0",
        "STATION": "USW00014734",
        "TMAX": "  139",
        "TMIN": "   67"
       },
       {
        "DATE": "2019-12-15",
        "PRCP": "    0",
        "SNOW": "    0",
        "STATION": "USW00014734",
        "TMAX": "   94",
        "TMIN": "   28"
       },
       {
        "DATE": "2019-12-16",
        "PRCP": "   38",
        "SNOW": "    0",
        "STATION": "USW00014734",
        "TMAX": "   28",
        "TMIN": "    6"
       },
       {
        "DATE": "2019-12-17",
        "PRCP": "  262",
        "SNOW": "    0",
        "STATION": "USW00014734",
        "TMAX": "   22",
        "TMIN": "    6"
       },
       {
        "DATE": "2019-12-18",
        "PRCP": "   20",
        "SNOW": "   25",
        "STATION": "USW00014734",
        "TMAX": "   28",
        "TMIN": "  -66"
       },
       {
        "DATE": "2019-12-19",
        "PRCP": "    0",
        "SNOW": "    0",
        "STATION": "USW00014734",
        "TMAX": "  -27",
        "TMIN": "  -88"
       },
       {
        "DATE": "2019-12-20",
        "PRCP": "    0",
        "SNOW": "    0",
        "STATION": "USW00014734",
        "TMAX": "   11",
        "TMIN": "  -60"
       },
       {
        "DATE": "2019-12-21",
        "PRCP": "    0",
        "SNOW": "    0",
        "STATION": "USW00014734",
        "TMAX": "   17",
        "TMIN": "  -71"
       },
       {
        "DATE": "2019-12-22",
        "PRCP": "    0",
        "SNOW": "    0",
        "STATION": "USW00014734",
        "TMAX": "   89",
        "TMIN": "  -55"
       },
       {
        "DATE": "2019-12-23",
        "PRCP": "    0",
        "SNOW": "    0",
        "STATION": "USW00014734",
        "TMAX": "  139",
        "TMIN": "   -5"
       },
       {
        "DATE": "2019-12-24",
        "PRCP": "    0",
        "SNOW": "    0",
        "STATION": "USW00014734",
        "TMAX": "  100",
        "TMIN": "   -5"
       },
       {
        "DATE": "2019-12-25",
        "PRCP": "    0",
        "SNOW": "    0",
        "STATION": "USW00014734",
        "TMAX": "   89",
        "TMIN": "  -27"
       },
       {
        "DATE": "2019-12-26",
        "PRCP": "    0",
        "SNOW": "    0",
        "STATION": "USW00014734",
        "TMAX": "   83",
        "TMIN": "   -5"
       },
       {
        "DATE": "2019-12-27",
        "PRCP": "    0",
        "SNOW": "    0",
        "STATION": "USW00014734",
        "TMAX": "  122",
        "TMIN": "   72"
       },
       {
        "DATE": "2019-12-28",
        "PRCP": "    0",
        "SNOW": "    0",
        "STATION": "USW00014734",
        "TMAX": "  117",
        "TMIN": "   33"
       },
       {
        "DATE": "2019-12-29",
        "PRCP": "   81",
        "SNOW": "    0",
        "STATION": "USW00014734",
        "TMAX": "   72",
        "TMIN": "   17"
       },
       {
        "DATE": "2019-12-30",
        "PRCP": "  165",
        "SNOW": "    0",
        "STATION": "USW00014734",
        "TMAX": "   61",
        "TMIN": "   28"
       },
       {
        "DATE": "2019-12-31",
        "PRCP": "    0",
        "SNOW": "    0",
        "STATION": "USW00014734",
        "TMAX": "   78",
        "TMIN": "   33"
       }
      ],
      "text/plain": [
       "<IPython.core.display.JSON object>"
      ]
     },
     "execution_count": 1,
     "metadata": {
      "application/json": {
       "expanded": false,
       "root": "root"
      }
     },
     "output_type": "execute_result"
    }
   ],
   "source": [
    "import requests\n",
    "\n",
    "# get the daily weather summary from Newark aiport location\n",
    "response = requests.get(\n",
    "    \"https://www.ncei.noaa.gov/access/services/data/v1\"\n",
    "    + \"?dataset=daily-summaries\"\n",
    "    + \"&stations=USW00014734\"\n",
    "    + \"&startDate=2019-01-01\"\n",
    "    + \"&endDate=2019-12-31\"\n",
    "    + \"&dataTypes=TMAX,TMIN,PRCP,SNOW\"\n",
    "    + \"&format=json\")\n",
    "\n",
    "from IPython.display import JSON\n",
    "import json\n",
    "JSON(json.loads(response.text))"
   ]
  },
  {
   "cell_type": "code",
   "execution_count": 8,
   "id": "8a6b9053",
   "metadata": {},
   "outputs": [
    {
     "data": {
      "text/html": [
       "<div>\n",
       "<style scoped>\n",
       "    .dataframe tbody tr th:only-of-type {\n",
       "        vertical-align: middle;\n",
       "    }\n",
       "\n",
       "    .dataframe tbody tr th {\n",
       "        vertical-align: top;\n",
       "    }\n",
       "\n",
       "    .dataframe thead th {\n",
       "        text-align: right;\n",
       "    }\n",
       "</style>\n",
       "<table border=\"1\" class=\"dataframe\">\n",
       "  <thead>\n",
       "    <tr style=\"text-align: right;\">\n",
       "      <th></th>\n",
       "      <th>STATION</th>\n",
       "      <th>SNOW</th>\n",
       "      <th>TMAX</th>\n",
       "      <th>TMIN</th>\n",
       "      <th>PRCP</th>\n",
       "      <th>COND</th>\n",
       "    </tr>\n",
       "    <tr>\n",
       "      <th>DATE</th>\n",
       "      <th></th>\n",
       "      <th></th>\n",
       "      <th></th>\n",
       "      <th></th>\n",
       "      <th></th>\n",
       "      <th></th>\n",
       "    </tr>\n",
       "  </thead>\n",
       "  <tbody>\n",
       "    <tr>\n",
       "      <th>2019-01-01</th>\n",
       "      <td>USW00014734</td>\n",
       "      <td>0.0</td>\n",
       "      <td>57.92</td>\n",
       "      <td>39.92</td>\n",
       "      <td>0.078740</td>\n",
       "      <td>Rain</td>\n",
       "    </tr>\n",
       "    <tr>\n",
       "      <th>2019-01-02</th>\n",
       "      <td>USW00014734</td>\n",
       "      <td>0.0</td>\n",
       "      <td>41.00</td>\n",
       "      <td>35.06</td>\n",
       "      <td>0.000000</td>\n",
       "      <td>Clear</td>\n",
       "    </tr>\n",
       "    <tr>\n",
       "      <th>2019-01-03</th>\n",
       "      <td>USW00014734</td>\n",
       "      <td>0.0</td>\n",
       "      <td>44.96</td>\n",
       "      <td>32.00</td>\n",
       "      <td>0.000000</td>\n",
       "      <td>Clear</td>\n",
       "    </tr>\n",
       "    <tr>\n",
       "      <th>2019-01-04</th>\n",
       "      <td>USW00014734</td>\n",
       "      <td>0.0</td>\n",
       "      <td>46.04</td>\n",
       "      <td>29.12</td>\n",
       "      <td>0.000000</td>\n",
       "      <td>Clear</td>\n",
       "    </tr>\n",
       "    <tr>\n",
       "      <th>2019-01-05</th>\n",
       "      <td>USW00014734</td>\n",
       "      <td>0.0</td>\n",
       "      <td>46.94</td>\n",
       "      <td>41.00</td>\n",
       "      <td>0.610236</td>\n",
       "      <td>Rain</td>\n",
       "    </tr>\n",
       "    <tr>\n",
       "      <th>...</th>\n",
       "      <td>...</td>\n",
       "      <td>...</td>\n",
       "      <td>...</td>\n",
       "      <td>...</td>\n",
       "      <td>...</td>\n",
       "      <td>...</td>\n",
       "    </tr>\n",
       "    <tr>\n",
       "      <th>2019-12-27</th>\n",
       "      <td>USW00014734</td>\n",
       "      <td>0.0</td>\n",
       "      <td>53.96</td>\n",
       "      <td>44.96</td>\n",
       "      <td>0.000000</td>\n",
       "      <td>Clear</td>\n",
       "    </tr>\n",
       "    <tr>\n",
       "      <th>2019-12-28</th>\n",
       "      <td>USW00014734</td>\n",
       "      <td>0.0</td>\n",
       "      <td>53.06</td>\n",
       "      <td>37.94</td>\n",
       "      <td>0.000000</td>\n",
       "      <td>Clear</td>\n",
       "    </tr>\n",
       "    <tr>\n",
       "      <th>2019-12-29</th>\n",
       "      <td>USW00014734</td>\n",
       "      <td>0.0</td>\n",
       "      <td>44.96</td>\n",
       "      <td>35.06</td>\n",
       "      <td>0.318898</td>\n",
       "      <td>Rain</td>\n",
       "    </tr>\n",
       "    <tr>\n",
       "      <th>2019-12-30</th>\n",
       "      <td>USW00014734</td>\n",
       "      <td>0.0</td>\n",
       "      <td>42.98</td>\n",
       "      <td>37.04</td>\n",
       "      <td>0.649606</td>\n",
       "      <td>Rain</td>\n",
       "    </tr>\n",
       "    <tr>\n",
       "      <th>2019-12-31</th>\n",
       "      <td>USW00014734</td>\n",
       "      <td>0.0</td>\n",
       "      <td>46.04</td>\n",
       "      <td>37.94</td>\n",
       "      <td>0.000000</td>\n",
       "      <td>Clear</td>\n",
       "    </tr>\n",
       "  </tbody>\n",
       "</table>\n",
       "<p>365 rows × 6 columns</p>\n",
       "</div>"
      ],
      "text/plain": [
       "                STATION  SNOW   TMAX   TMIN      PRCP   COND\n",
       "DATE                                                        \n",
       "2019-01-01  USW00014734   0.0  57.92  39.92  0.078740   Rain\n",
       "2019-01-02  USW00014734   0.0  41.00  35.06  0.000000  Clear\n",
       "2019-01-03  USW00014734   0.0  44.96  32.00  0.000000  Clear\n",
       "2019-01-04  USW00014734   0.0  46.04  29.12  0.000000  Clear\n",
       "2019-01-05  USW00014734   0.0  46.94  41.00  0.610236   Rain\n",
       "...                 ...   ...    ...    ...       ...    ...\n",
       "2019-12-27  USW00014734   0.0  53.96  44.96  0.000000  Clear\n",
       "2019-12-28  USW00014734   0.0  53.06  37.94  0.000000  Clear\n",
       "2019-12-29  USW00014734   0.0  44.96  35.06  0.318898   Rain\n",
       "2019-12-30  USW00014734   0.0  42.98  37.04  0.649606   Rain\n",
       "2019-12-31  USW00014734   0.0  46.04  37.94  0.000000  Clear\n",
       "\n",
       "[365 rows x 6 columns]"
      ]
     },
     "metadata": {},
     "output_type": "display_data"
    }
   ],
   "source": [
    "import pandas as pd\n",
    "\n",
    "# parse response as a pandas data frame\n",
    "df = pd.read_json(response.text).dropna().set_index('DATE')\n",
    "\n",
    "# convert precip from tenths millimeters to inches\n",
    "df.PRCP = df.PRCP/254\n",
    "df.SNOW = df.SNOW/254\n",
    "\n",
    "# convert temps from tenths centigrade to fahrenheit\n",
    "df.TMAX = df.TMAX/10*9/5 + 32\n",
    "df.TMIN = df.TMIN/10*9/5 + 32\n",
    "\n",
    "# add condition column\n",
    "df['COND'] = df.apply(lambda row: 'Snow' if row.SNOW > 0 else 'Rain' if row.PRCP > 0 else 'Clear', axis=1)\n",
    "\n",
    "from IPython.display import display\n",
    "display(df)"
   ]
  },
  {
   "cell_type": "code",
   "execution_count": 3,
   "id": "ada339f1",
   "metadata": {},
   "outputs": [
    {
     "data": {
      "image/png": "[encoded data removed]",
      "text/plain": [
       "<Figure size 432x288 with 1 Axes>"
      ]
     },
     "metadata": {
      "needs_background": "light"
     },
     "output_type": "display_data"
    }
   ],
   "source": [
    "import matplotlib.pyplot as plt\n",
    "\n",
    "# frequency chart of condition\n",
    "plt.figure()\n",
    "plt.hist(df.COND, range(4), align='left')\n",
    "plt.xlabel('Condition')\n",
    "plt.ylabel('Frequency')\n",
    "plt.show()"
   ]
  },
  {
   "cell_type": "code",
   "execution_count": 4,
   "id": "f92d86d3",
   "metadata": {},
   "outputs": [
    {
     "data": {
      "image/png": "[encoded data removed]",
      "text/plain": [
       "<Figure size 432x288 with 1 Axes>"
      ]
     },
     "metadata": {
      "needs_background": "light"
     },
     "output_type": "display_data"
    }
   ],
   "source": [
    "# relative frequency chart of condition\n",
    "plt.figure()\n",
    "plt.hist(df.COND, range(4), align='left', density=True)\n",
    "plt.xlabel('Condition')\n",
    "plt.ylabel('Rel. Frequency')\n",
    "plt.show()"
   ]
  },
  {
   "cell_type": "code",
   "execution_count": 5,
   "id": "7f7d2575",
   "metadata": {},
   "outputs": [
    {
     "data": {
      "image/png": "[encoded data removed]",
      "text/plain": [
       "<Figure size 432x288 with 1 Axes>"
      ]
     },
     "metadata": {
      "needs_background": "light"
     },
     "output_type": "display_data"
    }
   ],
   "source": [
    "# histogram chart of max temperature (specified bins)\n",
    "plt.figure()\n",
    "plt.hist(df.TMAX, range(0,105,5))\n",
    "plt.xlabel('Max Temperature (F)')\n",
    "plt.ylabel('Frequency')\n",
    "plt.show()"
   ]
  },
  {
   "cell_type": "code",
   "execution_count": 6,
   "id": "4a86b30c",
   "metadata": {},
   "outputs": [
    {
     "data": {
      "image/png": "[encoded data removed]",
      "text/plain": [
       "<Figure size 432x288 with 1 Axes>"
      ]
     },
     "metadata": {
      "needs_background": "light"
     },
     "output_type": "display_data"
    }
   ],
   "source": [
    "# histogram chart of max temperature (auto-generated bins)\n",
    "plt.figure()\n",
    "plt.hist(df.TMAX)\n",
    "plt.xlabel('Max Temperature (F)')\n",
    "plt.ylabel('Frequency')\n",
    "plt.show()"
   ]
  },
  {
   "cell_type": "code",
   "execution_count": 7,
   "id": "3d9a3afe",
   "metadata": {},
   "outputs": [
    {
     "data": {
      "image/png": "[encoded data removed]",
      "text/plain": [
       "<Figure size 432x288 with 1 Axes>"
      ]
     },
     "metadata": {
      "needs_background": "light"
     },
     "output_type": "display_data"
    }
   ],
   "source": [
    "# scatter plot of max vs. min temperature\n",
    "plt.figure()\n",
    "plt.plot(df.TMAX, df.TMIN, 'o')\n",
    "plt.xlabel('Max Temperature (F)')\n",
    "plt.ylabel('Min Temperature (F)')\n",
    "plt.show()"
   ]
  }
 ],
 "metadata": {
  "kernelspec": {
   "display_name": "Python 3",
   "language": "python",
   "name": "python3"
  },
  "language_info": {
   "codemirror_mode": {
    "name": "ipython",
    "version": 3
   },
   "file_extension": ".py",
   "mimetype": "text/x-python",
   "name": "python",
   "nbconvert_exporter": "python",
   "pygments_lexer": "ipython3",
   "version": "3.8.3"
  }
 },
 "nbformat": 4,
 "nbformat_minor": 5
}
